{
  "cells": [
    {
      "cell_type": "markdown",
      "metadata": {
        "id": "view-in-github",
        "colab_type": "text"
      },
      "source": [
        "<a href=\"https://colab.research.google.com/github/WCSCourses/CRISPR_Informatics_2024/blob/jb63_screening_module/modules/crispr_screen_analysis/crispr_counts_analysis.ipynb\" target=\"_parent\"><img src=\"https://colab.research.google.com/assets/colab-badge.svg\" alt=\"Open In Colab\"/></a>"
      ]
    },
    {
      "cell_type": "markdown",
      "id": "79526ff3-bd9b-4732-ba7e-75d39b9ea8f7",
      "metadata": {
        "id": "79526ff3-bd9b-4732-ba7e-75d39b9ea8f7"
      },
      "source": [
        "# High-content CRISPR screens: how to survey the genome\n",
        "\n",
        "## Table of contents\n",
        "1. [Introduction and aims](#intro)\n",
        "2. [Today's exercise](#exercise)\n",
        "3. [Step 1: Installing software and importing data for our session](#step1)\n",
        "3. [Step 2: Exploring a \"raw\" counts dataset](#step2)\n",
        "4. [Step 3: Identifying significantly perturbed genes in the screen](#step3)\n",
        "5. [Step 4: Validating the results a CRISPR screen](#step4)\n",
        "6. [Step 5: Alternative analysis tools and considerations](#step5)\n",
        "7. [Summary](#summary)\n",
        "8. [References](#references)\n",
        "\n",
        "-----\n",
        "## <a name=\"intro\"></a>\n",
        "## Introduction and aims\n",
        "\n",
        "The aim of this practical class is to introduce you to some of the concepts and tools involved in the analysis of pooled CRISPR screens. Will we begin by taking set of pre-generated CRISPR counts data and exploring it in R. Then, we will process the dataset to identify essential genes in a cell line using a popular tool called MAGECK. Finally, we will explore some alternative tools for CRIPSR screen analyis and discuss some of pitfalls that you might need to be wary of in these kinds of experiment.\n",
        "\n",
        "----\n",
        "\n",
        "## Background\n",
        "\n",
        "Throughout this course we have seen how CRISPR systems can applied as powerful tools for cellular manipulation. Depending on how they are configured, CRISPR systems can be used to:\n",
        "\n",
        "- Introduce double standed breaks at a genomic locus\n",
        "- Introduce sequence modifications to a locus\n",
        "- Recruit funcitonal domains to that locus\n",
        "- Modulate gene expression (activiation with CRISPRa and inhibition with CRISPRi)\n",
        "\n",
        "\n",
        "CRIPSR screens attempt to perform these manipulations at scale: interrogating thousands of genomic features (genes, promoters, enhancers *etc.*) simultaneously. Pooled screens enable us to achieve this within a single population of cells.\n",
        "\n",
        "----\n",
        "### The CRISPR screening process\n",
        "\n",
        "The process of conducting a pooled CRISPR screen is illustrated below in Figure 1. Essentially, we aim to deliver a \"library\" of guide RNAs into population of cells experessing Cas9 and observe the effects. It can be broken down into the following steps:\n",
        "\n",
        "🧬 **Design** 🧬\n",
        "\n",
        "First, we prepare a library of guide RNAs that target your sequences of interest. You might be able to order an off-the-shelf pre-deisgned library for this (popular libraries include Yusa, GeCkO and TKO); you might have to design a library of your own. Whilst we won't cover the custom gRNA library design process in detail here, I'd personally recommend looking at the [CRISPRverse](https://github.com/crisprVerse/Tutorials/tree/master) collection of R packages. They have several helpful tutorials that walk you through library design.\n",
        "\n",
        "📦 **Delivery** 📦\n",
        "\n",
        "You will now need to deliver your guide library into your cells of interest. A popular means for doing this is to package your library into lentiviral vectors and then transduce your cells. If you aim for a low mutliplicity of infection (MOI) you should be able to effectively introduce a single guide RNA into each cell in the population.\n",
        "\n",
        " 🥼 **Cell Culture and Phenotypic Selection** 🥼\n",
        "\n",
        "You can now subject your diversified cell population to some sort of selective pressure. This might be just be survival in the presence of CRISPR-Cas9, survival in the presence of a drug, or the expression of a fluorescent reporter (measured with a flow cytometer). Typically you would culture cells for multiple passages under selection to allow time for CRISPR-mediated genetic modifications and to amplify phenotypic effects.\n",
        "\n",
        "\n",
        "💻 **Genomic DNA Extraction and Sequencing** 💻\n",
        "\n",
        "Finally, you will need to amplfy gRNA DNA from both selected and control cell populations using PCR. If you perform high-throughput sequencing to quantify gRNA abundance you can then compare guide RNA counts in a selected and control population of cells. This should reveal which guides (and by proxy which target sequences) are associated with the phenotype.\n",
        "\n",
        "----\n",
        "\n",
        "### Figure 1. Process diagram for a CRISPR screen\n",
        "\n",
        "![Figure 1. Process diagram for a CRISPR screen](https://github.com/WCSCourses/CRISPR_Informatics_2024/blob/jb63_screening_module/modules/crispr_screen_analysis/figures/CRISPR_screen_demo.jpg?raw=1)\n",
        "\n",
        "Taken from [Clark, Teleri et al.\n",
        "Trends in Biotechnology, Volume 42, Issue 8, 1017 - 1034](https://www.cell.com/trends/biotechnology/fulltext/S0167-7799(24)00036-2)\n",
        "\n",
        "-----\n",
        "\n",
        " Screens can be classified as:\n",
        "\n",
        "- **Knockout screens**: Identify essential genes or genes involved in specific phenotypes\n",
        "- **Activation screens**: Uncover genes that, when overexpressed, contribute to a phenotype\n",
        "- **Inhibition screens**: Reveal genes that, when repressed, affect a particular cellular process\n",
        "\n",
        "At the Wellcome Trust Sanger Institute, we conduct large scale CRISPR knockout screens of cancer cell lines for initiatives such as [DepMap](https://depmap.sanger.ac.uk/documentation/datasets/wg-crispr-knockout/) to better understand the genetic dependencies of cancer.\n",
        "\n",
        "### Figure 2. The Project Score portal\n",
        "\n",
        "![Figure 2. Project score ](https://github.com/WCSCourses/CRISPR_Informatics_2024/blob/jb63_screening_module/modules/crispr_screen_analysis/figures/project_score.png?raw=1)\n",
        "\n",
        "----\n",
        "\n",
        "\n",
        "## <a name=\"exercise\"></a>\n",
        "### Today's exercise\n",
        "\n",
        "Today, we will explore the results of a simple CRISPR knockout screen designed to identify essential genes in the HAP1 cell line. HAP1 is a human myeloid leukemia cell line derivative that is notable for containing 1 copy of each gene: it is near haploid ([Andersson et al., 1987](https://www.ncbi.nlm.nih.gov/pmc/articles/PMC10020200/#B2)). HAP1 has become a popular particularly within the field of gene editing it avoids some of the the challenges associated with interpreting experiments in diploid cells such as mixed penetrance of genome editing.\n",
        "\n",
        "\n",
        "### Figure 3. Karotype of the HAP1 cell line\n",
        "\n",
        "![Figure 3. HAP1 karotype](https://github.com/WCSCourses/CRISPR_Informatics_2024/blob/jb63_screening_module/modules/crispr_screen_analysis/figures/HAP1_cell_karyotype.png?raw=1)\n",
        "\n",
        "https://commons.wikimedia.org/wiki/File:HAP1_cell_karotype.png\n",
        "\n",
        "\n",
        "\n",
        "\n",
        "**Experimental Design**\n",
        "\n",
        "The screen we will examine today is a straightforward experiment involving just four samples:\n",
        "\n",
        "- T0 Sample: A single \"pre-screen\" cell population sample. Collected before CRISPR-Cas9 cutting occurred (*serves as a baseline for guide RNA distribution measurements*).\n",
        "\n",
        "\n",
        "- T18 Samples: Three post-screen samples (A, B, and C). Collected 18 days after the screen began (*represents the cell populations after CRISPR-mediated gene knockout and selection*).\n",
        "\n",
        "To conduct the experiment, HAP1 cells were transfected with the [TKO_V3 library](https://www.addgene.org/pooled-library/moffat-crispr-knockout-tkov3/) which contains more than 70,000 guides targeting >18,000 genes.\n",
        "\n",
        "**Data Analysis Approach**\n",
        "\n",
        "We will:\n",
        "- Evaluate the quality of HTS derived samples based on gRNA count statistics ✅\n",
        "- Compare guide frequencies between T0 and T18 samples ✅\n",
        "- Use statistical methods to identify significantly depleted or enriched guides ✅\n",
        "- Map guides to their target genes to identify essential genes in HAP1 ✅\n",
        "\n",
        "----\n",
        "\n",
        "## <a name=\"step1\"></a>\n",
        "## Step 1: Installing software and importing data for our session\n",
        "\n",
        "In order to install some of the tools we will be using in the session, we will first have to add condacolab. Condacolab allows us install software packages within the code cells of our google colab session with the `conda install` command.\n",
        "\n"
      ]
    },
    {
      "cell_type": "code",
      "execution_count": 1,
      "id": "gyPjFKWJv1mv",
      "metadata": {
        "colab": {
          "base_uri": "https://localhost:8080/"
        },
        "id": "gyPjFKWJv1mv",
        "outputId": "70401d62-37a6-42f8-8033-f77a331dcf32"
      },
      "outputs": [
        {
          "output_type": "stream",
          "name": "stdout",
          "text": [
            "⏬ Downloading https://github.com/conda-forge/miniforge/releases/download/23.11.0-0/Mambaforge-23.11.0-0-Linux-x86_64.sh...\n",
            "📦 Installing...\n",
            "📌 Adjusting configuration...\n",
            "🩹 Patching environment...\n",
            "⏲ Done in 0:00:16\n",
            "🔁 Restarting kernel...\n"
          ]
        }
      ],
      "source": [
        "!pip install -q condacolab\n",
        "import condacolab\n",
        "condacolab.install()"
      ]
    },
    {
      "cell_type": "markdown",
      "source": [
        "Next, we can download the datasets that we're going to use in the exercise. These are: a counts matrix, containing the results of our screen and two gene lists describing essential and non-essentail genes that will use later in the practical.\n",
        "\n",
        "We download the data using the `wget` command, which can grab any files at a certain web addresss\n",
        "\n"
      ],
      "metadata": {
        "id": "1D3OWCvuneql"
      },
      "id": "1D3OWCvuneql"
    },
    {
      "cell_type": "code",
      "source": [
        "!wget https://raw.githubusercontent.com/WCSCourses/CRISPR_Informatics_2024/jb63_screening_module/course_data/reads_hap1.txt\n",
        "!wget https://raw.githubusercontent.com/WCSCourses/CRISPR_Informatics_2024/jb63_screening_module/course_data/CEGv2.txt\n",
        "!wget https://raw.githubusercontent.com/WCSCourses/CRISPR_Informatics_2024/jb63_screening_module/course_data/NEGv1.txt"
      ],
      "metadata": {
        "id": "lMFlPAwEbYFB",
        "outputId": "e9860aa6-e7dc-412f-8243-e1e5cfd4c74a",
        "colab": {
          "base_uri": "https://localhost:8080/"
        }
      },
      "id": "lMFlPAwEbYFB",
      "execution_count": 1,
      "outputs": [
        {
          "output_type": "stream",
          "name": "stdout",
          "text": [
            "--2024-09-18 09:58:23--  https://raw.githubusercontent.com/WCSCourses/CRISPR_Informatics_2024/jb63_screening_module/course_data/reads_hap1.txt\n",
            "Resolving raw.githubusercontent.com (raw.githubusercontent.com)... 185.199.108.133, 185.199.109.133, 185.199.110.133, ...\n",
            "Connecting to raw.githubusercontent.com (raw.githubusercontent.com)|185.199.108.133|:443... connected.\n",
            "HTTP request sent, awaiting response... 200 OK\n",
            "Length: 3649737 (3.5M) [text/plain]\n",
            "Saving to: ‘reads_hap1.txt.1’\n",
            "\n",
            "\rreads_hap1.txt.1      0%[                    ]       0  --.-KB/s               \rreads_hap1.txt.1    100%[===================>]   3.48M  --.-KB/s    in 0.08s   \n",
            "\n",
            "2024-09-18 09:58:24 (44.0 MB/s) - ‘reads_hap1.txt.1’ saved [3649737/3649737]\n",
            "\n",
            "--2024-09-18 09:58:24--  https://raw.githubusercontent.com/WCSCourses/CRISPR_Informatics_2024/jb63_screening_module/course_data/CEGv2.txt\n",
            "Resolving raw.githubusercontent.com (raw.githubusercontent.com)... 185.199.111.133, 185.199.108.133, 185.199.109.133, ...\n",
            "Connecting to raw.githubusercontent.com (raw.githubusercontent.com)|185.199.111.133|:443... connected.\n",
            "HTTP request sent, awaiting response... 200 OK\n",
            "Length: 15088 (15K) [text/plain]\n",
            "Saving to: ‘CEGv2.txt.1’\n",
            "\n",
            "CEGv2.txt.1         100%[===================>]  14.73K  --.-KB/s    in 0s      \n",
            "\n",
            "2024-09-18 09:58:24 (29.9 MB/s) - ‘CEGv2.txt.1’ saved [15088/15088]\n",
            "\n",
            "--2024-09-18 09:58:24--  https://raw.githubusercontent.com/WCSCourses/CRISPR_Informatics_2024/jb63_screening_module/course_data/NEGv1.txt\n",
            "Resolving raw.githubusercontent.com (raw.githubusercontent.com)... 185.199.111.133, 185.199.108.133, 185.199.109.133, ...\n",
            "Connecting to raw.githubusercontent.com (raw.githubusercontent.com)|185.199.111.133|:443... connected.\n",
            "HTTP request sent, awaiting response... 200 OK\n",
            "Length: 21712 (21K) [text/plain]\n",
            "Saving to: ‘NEGv1.txt.1’\n",
            "\n",
            "NEGv1.txt.1         100%[===================>]  21.20K  --.-KB/s    in 0.002s  \n",
            "\n",
            "2024-09-18 09:58:24 (13.6 MB/s) - ‘NEGv1.txt.1’ saved [21712/21712]\n",
            "\n"
          ]
        }
      ]
    },
    {
      "cell_type": "markdown",
      "id": "QmsfAa0PDwqG",
      "metadata": {
        "id": "QmsfAa0PDwqG"
      },
      "source": [
        "Next, we will load an extension for the collab notebook that lets us execute R code within collab notebook cells."
      ]
    },
    {
      "cell_type": "code",
      "execution_count": 2,
      "id": "tbUbWekNwA_D",
      "metadata": {
        "id": "tbUbWekNwA_D"
      },
      "outputs": [],
      "source": [
        "%load_ext rpy2.ipython"
      ]
    },
    {
      "cell_type": "markdown",
      "source": [
        "Now, any cells that contain the `%%R` tag at the start will be executed within an R environment.\n",
        "\n",
        "*Note: any lines of code that contain an `!` at the start will be executed in bash (the default scripting language in a terminal).*\n",
        "\n",
        "We will the exercise by loading a couple of R packages into our collab session. For those newer to R, this notebook loads the `tidyverse` meta package: a set of tools that extend \"base\" R to make data-wrangling and exploration more enjoyable. The code also makes use of the `|>` pipe functionality in R, which simplifies multi-step data manipulation.  \n",
        "\n",
        "*Note: Some of you might recognise `|>`'s progenitor – `%>%` – which was prevalent in older versions of R.*"
      ],
      "metadata": {
        "id": "VT0MrrqVN9VU"
      },
      "id": "VT0MrrqVN9VU"
    },
    {
      "cell_type": "code",
      "execution_count": 3,
      "id": "0WBpOreTs0uY",
      "metadata": {
        "id": "0WBpOreTs0uY",
        "colab": {
          "base_uri": "https://localhost:8080/"
        },
        "outputId": "9cd1a523-6215-4f2c-9d2b-bdcbef855ca6"
      },
      "outputs": [
        {
          "output_type": "stream",
          "name": "stderr",
          "text": [
            "R[write to console]: trying URL 'https://cran.rstudio.com/src/contrib/ggrepel_0.9.6.tar.gz'\n",
            "\n",
            "R[write to console]: Content type 'application/x-gzip'\n",
            "R[write to console]:  length 149970 bytes (146 KB)\n",
            "\n",
            "R[write to console]: =\n",
            "R[write to console]: =\n",
            "R[write to console]: =\n",
            "R[write to console]: =\n",
            "R[write to console]: =\n",
            "R[write to console]: =\n",
            "R[write to console]: =\n",
            "R[write to console]: =\n",
            "R[write to console]: =\n",
            "R[write to console]: =\n",
            "R[write to console]: =\n",
            "R[write to console]: =\n",
            "R[write to console]: =\n",
            "R[write to console]: =\n",
            "R[write to console]: =\n",
            "R[write to console]: =\n",
            "R[write to console]: =\n",
            "R[write to console]: =\n",
            "R[write to console]: =\n",
            "R[write to console]: =\n",
            "R[write to console]: =\n",
            "R[write to console]: =\n",
            "R[write to console]: =\n",
            "R[write to console]: =\n",
            "R[write to console]: =\n",
            "R[write to console]: =\n",
            "R[write to console]: =\n",
            "R[write to console]: =\n",
            "R[write to console]: =\n",
            "R[write to console]: =\n",
            "R[write to console]: =\n",
            "R[write to console]: =\n",
            "R[write to console]: =\n",
            "R[write to console]: =\n",
            "R[write to console]: =\n",
            "R[write to console]: =\n",
            "R[write to console]: =\n",
            "R[write to console]: =\n",
            "R[write to console]: =\n",
            "R[write to console]: =\n",
            "R[write to console]: =\n",
            "R[write to console]: =\n",
            "R[write to console]: =\n",
            "R[write to console]: =\n",
            "R[write to console]: =\n",
            "R[write to console]: =\n",
            "R[write to console]: =\n",
            "R[write to console]: =\n",
            "R[write to console]: =\n",
            "R[write to console]: =\n",
            "R[write to console]: \n",
            "\n",
            "R[write to console]: downloaded 146 KB\n",
            "\n",
            "\n",
            "R[write to console]: \n",
            "\n",
            "R[write to console]: \n",
            "R[write to console]: The downloaded source packages are in\n",
            "\t‘/tmp/RtmpI9khQl/downloaded_packages’\n",
            "R[write to console]: \n",
            "R[write to console]: \n",
            "\n"
          ]
        },
        {
          "output_type": "stream",
          "name": "stdout",
          "text": [
            "── Attaching core tidyverse packages ──────────────────────── tidyverse 2.0.0 ──\n",
            "✔ dplyr     1.1.4     ✔ readr     2.1.5\n",
            "✔ forcats   1.0.0     ✔ stringr   1.5.1\n",
            "✔ ggplot2   3.5.1     ✔ tibble    3.2.1\n",
            "✔ lubridate 1.9.3     ✔ tidyr     1.3.1\n",
            "✔ purrr     1.0.2     \n",
            "── Conflicts ────────────────────────────────────────── tidyverse_conflicts() ──\n",
            "✖ dplyr::filter() masks stats::filter()\n",
            "✖ dplyr::lag()    masks stats::lag()\n",
            "ℹ Use the conflicted package (<http://conflicted.r-lib.org/>) to force all conflicts to become errors\n"
          ]
        }
      ],
      "source": [
        "%%R\n",
        "# Load our dependencies\n",
        "suppressMessages(install.packages(\"ggrepel\"))\n",
        "library(tidyverse)\n",
        "library(ggrepel)"
      ]
    },
    {
      "cell_type": "markdown",
      "id": "0e93acbe",
      "metadata": {
        "id": "0e93acbe"
      },
      "source": [
        "-------\n",
        "<a name=\"step2\"></a>\n",
        "## Step 2: Exploring a \"raw\" CRISPR counts dataset\n",
        "\n",
        "We will begin from a point we already have a CRISPR counts table generated. In your own experiments, you may have to generate this table for yourself. There are several tools for doing this (including MAGECK - which we will use later) but counts generation requires some large files and computational time it won't be practical in this session. A supplementary notebook that outlines how you could generate counts for a sample is provided alongside this exercise.\n",
        "\n",
        "**Reading counts into R**\n",
        "\n",
        "Let's read the counts file for our experiment into R and display the dataframe that this produces:\n"
      ]
    },
    {
      "cell_type": "code",
      "execution_count": 4,
      "id": "1ozMoACLs6Kb",
      "metadata": {
        "colab": {
          "base_uri": "https://localhost:8080/"
        },
        "id": "1ozMoACLs6Kb",
        "outputId": "4e4e4326-637e-4b2a-d29d-49e994ac9302"
      },
      "outputs": [
        {
          "output_type": "stream",
          "name": "stdout",
          "text": [
            "Rows: 71090 Columns: 6\n",
            "── Column specification ────────────────────────────────────────────────────────\n",
            "Delimiter: \"\\t\"\n",
            "chr (2): SEQUENCE, GENE\n",
            "dbl (4): HAP1_T0, HAP1_T18A, HAP1_T18B, HAP1_T18C\n",
            "\n",
            "ℹ Use `spec()` to retrieve the full column specification for this data.\n",
            "ℹ Specify the column types or set `show_col_types = FALSE` to quiet this message.\n",
            "# A tibble: 71,090 × 6\n",
            "   SEQUENCE             GENE  HAP1_T0 HAP1_T18A HAP1_T18B HAP1_T18C\n",
            "   <chr>                <chr>   <dbl>     <dbl>     <dbl>     <dbl>\n",
            " 1 ACTGGCGCCATCGAGAGCCA A1BG      239       245       230        62\n",
            " 2 CAAGAGAAAGACCACGAGCA A1BG     1647       415       313       394\n",
            " 3 GCTCAGCTGGGTCCATCCTG A1BG     1480       492       388       415\n",
            " 4 GTCGAGCTGATTCTGAGCGA A1BG      888       387       297       202\n",
            " 5 AGTTATGTTAGGTATACCCG A1CF      266       176       327       328\n",
            " 6 ATGACTCTCATACTCCACGA A1CF      294       183       254       131\n",
            " 7 GGTGCAGCATCCCAACCAGG A1CF      307       314       143       186\n",
            " 8 TGCGCTGGACCAGTGCGCGG A1CF      619       226        84        77\n",
            " 9 AAGGTTCTAATTCAGAGGCA A2ML1     570       418       487       582\n",
            "10 ATAGGGCCAACATTCCTAGA A2ML1     459       571       548       359\n",
            "# ℹ 71,080 more rows\n",
            "# ℹ Use `print(n = ...)` to see more rows\n"
          ]
        }
      ],
      "source": [
        "%%R\n",
        "input_file <- read_tsv(\"reads_hap1.txt\")\n",
        "input_file"
      ]
    },
    {
      "cell_type": "markdown",
      "source": [
        "**Anatomy of the dataset**\n",
        "\n",
        "The dataframe has several columns; one representing the CRISPR guide RNA sequences that were used in the screen (`SEQUENCE`), one representing the genes that they target (`GENE`), and several representing samples in the experiment (`HAP1_T0`, `HAP1_T18A` etc.)\n",
        "\n",
        "The `HAP1` in these sample names reflects the cell line we screened in the experiment and the `T<X>` reflects the timepoint the sample was collected at.\n",
        "\n",
        "\n",
        "--------\n",
        "### Questions\n",
        "- One thing you might notice about the dataframe is that there are multiple guide RNA sequences per gene. Why do you think this might be?\n",
        "\n",
        "- In some cases, the sequences counts you see above vary widely between the T18 A, B and C replicates. Can you think of any explanations for this variability?\n",
        "\n",
        "\n",
        "-------\n",
        "\n",
        "**Reformating the data**\n",
        "\n",
        "The dataframe we've read into R has several columns representing guide RNA counts. For downstream analysis in R, it will be probably helpful to \"wrangle\" data into a whats called a [tidy format](https://r4ds.had.co.nz/tidy-data.html). We will do that here, collapsing all of our HAP1 columns into one with a command called a `pivot`.\n"
      ],
      "metadata": {
        "id": "A9nxec8ARofY"
      },
      "id": "A9nxec8ARofY"
    },
    {
      "cell_type": "code",
      "source": [
        "%%R\n",
        "guide_counts <- input_file |>\n",
        "                pivot_longer(cols = contains(\"HAP1\"),\n",
        "                             values_to = \"counts\",\n",
        "                             names_to = \"sample\")"
      ],
      "metadata": {
        "id": "nNX2Am1bNsCj"
      },
      "id": "nNX2Am1bNsCj",
      "execution_count": 5,
      "outputs": []
    },
    {
      "cell_type": "markdown",
      "source": [
        "Now if we can glance at the first few lines of our refomatted dataset (which will be easier to explore in R) with:\n",
        "\n"
      ],
      "metadata": {
        "id": "scRUvOP4VQnJ"
      },
      "id": "scRUvOP4VQnJ"
    },
    {
      "cell_type": "code",
      "source": [
        "%%R\n",
        "head(guide_counts)"
      ],
      "metadata": {
        "colab": {
          "base_uri": "https://localhost:8080/"
        },
        "id": "IDaXAetJVNJt",
        "outputId": "67d02089-11cd-4416-9b9d-33bc62dbc3b2"
      },
      "id": "IDaXAetJVNJt",
      "execution_count": 6,
      "outputs": [
        {
          "output_type": "stream",
          "name": "stdout",
          "text": [
            "# A tibble: 6 × 4\n",
            "  SEQUENCE             GENE  sample    counts\n",
            "  <chr>                <chr> <chr>      <dbl>\n",
            "1 ACTGGCGCCATCGAGAGCCA A1BG  HAP1_T0      239\n",
            "2 ACTGGCGCCATCGAGAGCCA A1BG  HAP1_T18A    245\n",
            "3 ACTGGCGCCATCGAGAGCCA A1BG  HAP1_T18B    230\n",
            "4 ACTGGCGCCATCGAGAGCCA A1BG  HAP1_T18C     62\n",
            "5 CAAGAGAAAGACCACGAGCA A1BG  HAP1_T0     1647\n",
            "6 CAAGAGAAAGACCACGAGCA A1BG  HAP1_T18A    415\n"
          ]
        }
      ]
    },
    {
      "cell_type": "markdown",
      "id": "2bcd08ce",
      "metadata": {
        "id": "2bcd08ce"
      },
      "source": [
        "We can visualise this reformatted dataset to better understand what the distribution of guide counts looks like in a sample.\n",
        "\n",
        "For a typical genome wide CRISPR screen, would hope that all of the guides seqeunces are observed in our sample (with counts >0) and that there is sufficient sequencing depth (coverage) for each guide in the library for us to perform statistical tests in downstream tools. Let's check this now with a boxplot\n",
        "\n",
        "A boxplot presents the dataset in a concise way, highlighting: the mean counts per guide in each sample; the upper and low for the guide counts in each sample (represented by each boxes limits) and any guides with extremely high or low counts are flagged as dots.\n"
      ]
    },
    {
      "cell_type": "code",
      "execution_count": 7,
      "id": "8f2ea960-dd93-4310-8455-c6d402a4aa31",
      "metadata": {
        "colab": {
          "base_uri": "https://localhost:8080/",
          "height": 497
        },
        "id": "8f2ea960-dd93-4310-8455-c6d402a4aa31",
        "outputId": "b80bdbd0-fdeb-48af-86e6-00674f2a43b2"
      },
      "outputs": [
        {
          "output_type": "display_data",
          "data": {
            "image/png": "[encoded data removed]"
          },
          "metadata": {}
        }
      ],
      "source": [
        "%%R\n",
        "\n",
        "ggplot(guide_counts, aes(x = sample, y=log2(counts+1))) +\n",
        "geom_boxplot(aes(fill = sample))"
      ]
    },
    {
      "cell_type": "markdown",
      "source": [
        "We can plot the distribution of counts for the different guides in the screen using a density plot. This plot should tell a similar story but some of you might might find it more intuitive."
      ],
      "metadata": {
        "id": "VO8k1_ECO1xh"
      },
      "id": "VO8k1_ECO1xh"
    },
    {
      "cell_type": "code",
      "source": [
        "%%R\n",
        "ggplot(guide_counts, aes(x=log2(counts+1))) +\n",
        "geom_density(aes(fill = sample), alpha = 0.4)"
      ],
      "metadata": {
        "colab": {
          "base_uri": "https://localhost:8080/",
          "height": 497
        },
        "id": "FqG7Qm9rVqnL",
        "outputId": "e0028684-5125-404d-a255-17669bbf20f2"
      },
      "id": "FqG7Qm9rVqnL",
      "execution_count": 8,
      "outputs": [
        {
          "output_type": "display_data",
          "data": {
            "image/png": "[encoded data removed]"
          },
          "metadata": {}
        }
      ]
    },
    {
      "cell_type": "markdown",
      "source": [
        "### Questions\n",
        "- Notice that we have chosen to represent the counts for the guide RNAs on a log2 + 1 scale, why do you think might be?\n",
        "- What do you estimate is the mean number of counts per guide RNA in our samples?\n",
        "- Most protocols suggest a mean counts-per-guide of at least 200 should be sufficient for conducting a CRISPR knockout screen. Do these samples meet that critera?\n",
        "- How could you identify any poor-quality or outlier samples in a dataset like this? Are you aware of any techniques for this?\n",
        "\n",
        "- If a library of 100,000 gRNAs and wanted a minimum starting counts of 500 per guide, how many cells would you have to transduce?\n",
        "\n",
        "---\n"
      ],
      "metadata": {
        "id": "jjawVyhUbqUb"
      },
      "id": "jjawVyhUbqUb"
    },
    {
      "cell_type": "markdown",
      "id": "b04081f6-d737-436e-96a7-2ab0244cf2a1",
      "metadata": {
        "id": "b04081f6-d737-436e-96a7-2ab0244cf2a1"
      },
      "source": [
        "\n",
        "------\n",
        " <a name=\"step3\"></a>\n",
        "## Step 3: Identifying significantly perturbed genes in the screen\n",
        "\n",
        "**MAGECK**\n",
        "\n",
        "Since our data looks of suitable quality for downstream processing, we will now try to find out which genes are essential in the HAP1 cell-line by comparing over the course of the experiemnt.\n",
        "\n",
        "To do this we will use [MAGECK](https://genomebiology.biomedcentral.com/articles/10.1186/s13059-014-0554-4): a popular tool for CRISPR counts analysis that uses a negative binomial (NB) model to identify significantly perturbed genes in a datest.\n",
        "\n",
        "In brief, MAGECK will:\n",
        "- Median normalise the dataset (*to account for differnces in sequencing depth between samples*)\n",
        "- Model the mean-variance trend in the dataset (*to better handle guides with very low or very high mean counts*)\n",
        "- Perform statistical testing and appropriate corrections to identify guides with significantly different counts at the start and end of the screen.\n",
        "\n",
        "**Figure 4: Data processing in MAGECK**\n",
        "\n",
        "![Figure 4: MAGECK processing](https://github.com/WCSCourses/CRISPR_Informatics_2024/blob/jb63_screening_module/modules/crispr_screen_analysis/figures/MAGECK_processing.png?raw=1)\n",
        "\n",
        "Taken from: Li, W., Xu, H., Xiao, T. et al. MAGeCK enables robust identification of essential genes from genome-scale CRISPR/Cas9 knockout screens\n",
        "\n",
        "----\n",
        "This process will generate a \"log fold change\" value for each guide in the dataset (a measure of our effect size - how much guide counts change by) and a p-value (a measure of our stastical confidence in the change). Roughly speaking p-values will be determined by the both the average log fold change value observed for a guide and by variability between the replicates.\n",
        "\n",
        "\n",
        "**Setting up MAGECK**\n",
        "\n",
        "We can start using MAGECK by installing it through conda. Oridinarily this normally print a long message about the installation process in the cell below.To keep things readable we will silence the next cell by redirecting its output to a \"black-hole\" in the computer terminal with `&> /dev/null`\n",
        "\n",
        "\n",
        "\n"
      ]
    },
    {
      "cell_type": "code",
      "execution_count": 9,
      "id": "5caabef0-84ce-4177-bc38-0c3aa1deeaa7",
      "metadata": {
        "id": "5caabef0-84ce-4177-bc38-0c3aa1deeaa7"
      },
      "outputs": [],
      "source": [
        "!conda install bioconda::mageck &> /dev/null"
      ]
    },
    {
      "cell_type": "markdown",
      "source": [
        "**Verifying the installation has worked**\n",
        "\n",
        "Once the above cell has finished executing you should be able to check that MAGECK is installed and look at the tool's options using what's called a `-h` or help flag.\n"
      ],
      "metadata": {
        "id": "FID4FOK2oj-b"
      },
      "id": "FID4FOK2oj-b"
    },
    {
      "cell_type": "code",
      "source": [
        "!mageck -h"
      ],
      "metadata": {
        "id": "k0-ehxTQWtwO"
      },
      "id": "k0-ehxTQWtwO",
      "execution_count": null,
      "outputs": []
    },
    {
      "cell_type": "markdown",
      "source": [
        "\n",
        "**How to use MAGECK**\n",
        "\n",
        "MAGECK has two subcommands that can be used for generating counts files like the one we are using (count) and then analysing them. Try accessing the help messages for the two mageck subcommands `magek count` and `magek test` by filling the code blocks below - How do they work?"
      ],
      "metadata": {
        "id": "o3p64zBKgo9K"
      },
      "id": "o3p64zBKgo9K"
    },
    {
      "cell_type": "code",
      "source": [
        "# Try to access the count help message here"
      ],
      "metadata": {
        "id": "F9bK8527qxEz"
      },
      "id": "F9bK8527qxEz",
      "execution_count": null,
      "outputs": []
    },
    {
      "cell_type": "code",
      "source": [
        "# Try to access the stat help message here"
      ],
      "metadata": {
        "id": "FLiz8_lIqwvW"
      },
      "id": "FLiz8_lIqwvW",
      "execution_count": null,
      "outputs": []
    },
    {
      "cell_type": "markdown",
      "source": [
        "**Running MAGECK**\n",
        "\n",
        "Now that MAGECK is installed and ready to run, we will need to define the *contrast* we want to perform (comparing between our T0 and our T18 samples). Using the MAGECK command options we can do this by defining our control (`c=T0`) and treatment samples (`t=T18A,T18B,T18C`) based on their column position in the file (starting from 0).\n",
        "\n",
        "When we run MAGECK we will also it MAGECK to name the all of the output files it creates `all_vs_control` and to output the \"normalised\" guide counts it generates to a file with `--normcounts-to-file`"
      ],
      "metadata": {
        "id": "dRQgJNeGpHGn"
      },
      "id": "dRQgJNeGpHGn"
    },
    {
      "cell_type": "code",
      "source": [
        "!mageck test -k reads_hap1.txt -c 0 -t 1,2,3 -n all_vs_control --normcounts-to-file\n"
      ],
      "metadata": {
        "colab": {
          "base_uri": "https://localhost:8080/"
        },
        "id": "gccwLS6MV6Uk",
        "outputId": "0a10c419-2616-4781-a14c-aa5dab60652c"
      },
      "id": "gccwLS6MV6Uk",
      "execution_count": 10,
      "outputs": [
        {
          "output_type": "stream",
          "name": "stdout",
          "text": [
            "INFO  @ Wed, 18 Sep 2024 12:46:19: Parameters: /usr/local/bin/mageck test -k reads_hap1.txt -c 0 -t 1,2,3 -n all_vs_control --normcounts-to-file \n",
            "INFO  @ Wed, 18 Sep 2024 12:46:19: Welcome to MAGeCK v0.5.9.5. Command: test \n",
            "INFO  @ Wed, 18 Sep 2024 12:46:19: Loading count table from reads_hap1.txt  \n",
            "INFO  @ Wed, 18 Sep 2024 12:46:19: Processing 1 lines.. \n",
            "INFO  @ Wed, 18 Sep 2024 12:46:19: Loaded 71090 records. \n",
            "INFO  @ Wed, 18 Sep 2024 12:46:19: Loading Rnw template file: /usr/local/lib/python3.10/site-packages/mageck/test_report.Rmd. \n",
            "INFO  @ Wed, 18 Sep 2024 12:46:19: Loading R template file: /usr/local/lib/python3.10/site-packages/mageck/plot_template.RTemplate. \n",
            "INFO  @ Wed, 18 Sep 2024 12:46:19: Loading R template file: /usr/local/lib/python3.10/site-packages/mageck/plot_template_indvgene.RTemplate. \n",
            "INFO  @ Wed, 18 Sep 2024 12:46:19: Loading Rnw template file: /usr/local/lib/python3.10/site-packages/mageck/plot_template.Rnw. \n",
            "INFO  @ Wed, 18 Sep 2024 12:46:19: Treatment samples:1,2,3 \n",
            "INFO  @ Wed, 18 Sep 2024 12:46:19: Treatment sample index:1,2,3 \n",
            "INFO  @ Wed, 18 Sep 2024 12:46:19: Control samples:0 \n",
            "INFO  @ Wed, 18 Sep 2024 12:46:19: Control sample index:0 \n",
            "INFO  @ Wed, 18 Sep 2024 12:46:20: Final size factor: 0.5829298917460782 1.1631143907186396 1.1725452185510892 1.2595760552947013 \n",
            "INFO  @ Wed, 18 Sep 2024 12:46:20: Writing normalized read counts to all_vs_control.normalized.txt \n",
            "INFO  @ Wed, 18 Sep 2024 12:46:22: Detecting outliers from variance estimation.. Avg read count:[409.24424812564234], Var: [62119.701199782765] \n",
            "INFO  @ Wed, 18 Sep 2024 12:46:22: Skipping 166 sgRNAs from variance calculation because of their extreme high counts (> 4* STD (mean counts) ). \n",
            "INFO  @ Wed, 18 Sep 2024 12:46:22: Raw variance calculation: 0.0 for control, 1.0 for treatment \n",
            "INFO  @ Wed, 18 Sep 2024 12:46:22: Before RRA, 336 sgRNAs are removed with zero counts in both group(s). \n",
            "INFO  @ Wed, 18 Sep 2024 12:46:23: Use qnorm to reversely calculate sgRNA scores ... \n",
            "INFO  @ Wed, 18 Sep 2024 12:46:26: Running command: RRA -i all_vs_control.plow.txt -o all_vs_control.gene.low.txt -p 0.3163778726291093 --skip-gene NA --skip-gene na  \n",
            "INFO  @ Wed, 18 Sep 2024 12:47:12: Command message: \n",
            "INFO  @ Wed, 18 Sep 2024 12:47:12:   Welcome to RRA v 0.5.9. \n",
            "INFO  @ Wed, 18 Sep 2024 12:47:12:   Skipping gene NA for permutation ... \n",
            "INFO  @ Wed, 18 Sep 2024 12:47:12:   Skipping gene na for permutation ... \n",
            "INFO  @ Wed, 18 Sep 2024 12:47:12:   Reading input file... \n",
            "INFO  @ Wed, 18 Sep 2024 12:47:12:   Summary: 70754 sgRNAs, 18056 genes, 1 lists; skipped sgRNAs:0 \n",
            "INFO  @ Wed, 18 Sep 2024 12:47:12:   Computing lo-values for each group... \n",
            "INFO  @ Wed, 18 Sep 2024 12:47:12:   Computing false discovery rate... \n",
            "INFO  @ Wed, 18 Sep 2024 12:47:12:   Permuting genes with 1 sgRNAs... \n",
            "INFO  @ Wed, 18 Sep 2024 12:47:12:   Permuting genes with 2 sgRNAs... \n",
            "INFO  @ Wed, 18 Sep 2024 12:47:12:   Permuting genes with 3 sgRNAs... \n",
            "INFO  @ Wed, 18 Sep 2024 12:47:12:   Permuting genes with 4 sgRNAs... \n",
            "INFO  @ Wed, 18 Sep 2024 12:47:12:   Permuting genes with 22 sgRNAs... \n",
            "INFO  @ Wed, 18 Sep 2024 12:47:12:   Permuting genes with 24 sgRNAs... \n",
            "INFO  @ Wed, 18 Sep 2024 12:47:12:   Permuting genes with 94 sgRNAs... \n",
            "INFO  @ Wed, 18 Sep 2024 12:47:12:   Number of genes under FDR adjustment: 18056 \n",
            "INFO  @ Wed, 18 Sep 2024 12:47:12:   Saving to output file... \n",
            "INFO  @ Wed, 18 Sep 2024 12:47:12:   RRA completed. \n",
            "INFO  @ Wed, 18 Sep 2024 12:47:12:   Groups deletion complete. \n",
            "INFO  @ Wed, 18 Sep 2024 12:47:12:   Lists deletion complete. \n",
            "INFO  @ Wed, 18 Sep 2024 12:47:12:    \n",
            "INFO  @ Wed, 18 Sep 2024 12:47:12: End command message. \n",
            "INFO  @ Wed, 18 Sep 2024 12:47:12: Running command: RRA -i all_vs_control.phigh.txt -o all_vs_control.gene.high.txt -p 0.32302060660881365 --skip-gene NA --skip-gene na  \n",
            "INFO  @ Wed, 18 Sep 2024 12:47:59: Command message: \n",
            "INFO  @ Wed, 18 Sep 2024 12:47:59:   Welcome to RRA v 0.5.9. \n",
            "INFO  @ Wed, 18 Sep 2024 12:47:59:   Skipping gene NA for permutation ... \n",
            "INFO  @ Wed, 18 Sep 2024 12:47:59:   Skipping gene na for permutation ... \n",
            "INFO  @ Wed, 18 Sep 2024 12:47:59:   Reading input file... \n",
            "INFO  @ Wed, 18 Sep 2024 12:47:59:   Summary: 70754 sgRNAs, 18056 genes, 1 lists; skipped sgRNAs:0 \n",
            "INFO  @ Wed, 18 Sep 2024 12:47:59:   Computing lo-values for each group... \n",
            "INFO  @ Wed, 18 Sep 2024 12:47:59:   Computing false discovery rate... \n",
            "INFO  @ Wed, 18 Sep 2024 12:47:59:   Permuting genes with 1 sgRNAs... \n",
            "INFO  @ Wed, 18 Sep 2024 12:47:59:   Permuting genes with 2 sgRNAs... \n",
            "INFO  @ Wed, 18 Sep 2024 12:47:59:   Permuting genes with 3 sgRNAs... \n",
            "INFO  @ Wed, 18 Sep 2024 12:47:59:   Permuting genes with 4 sgRNAs... \n",
            "INFO  @ Wed, 18 Sep 2024 12:47:59:   Permuting genes with 22 sgRNAs... \n",
            "INFO  @ Wed, 18 Sep 2024 12:47:59:   Permuting genes with 24 sgRNAs... \n",
            "INFO  @ Wed, 18 Sep 2024 12:47:59:   Permuting genes with 94 sgRNAs... \n",
            "INFO  @ Wed, 18 Sep 2024 12:47:59:   Number of genes under FDR adjustment: 18056 \n",
            "INFO  @ Wed, 18 Sep 2024 12:47:59:   Saving to output file... \n",
            "INFO  @ Wed, 18 Sep 2024 12:47:59:   RRA completed. \n",
            "INFO  @ Wed, 18 Sep 2024 12:47:59:   Groups deletion complete. \n",
            "INFO  @ Wed, 18 Sep 2024 12:47:59:   Lists deletion complete. \n",
            "INFO  @ Wed, 18 Sep 2024 12:47:59:    \n",
            "INFO  @ Wed, 18 Sep 2024 12:47:59: End command message. \n",
            "INFO  @ Wed, 18 Sep 2024 12:48:00: Loading top 10 genes from all_vs_control.gene.low.txt: POLR2L,EIF3A,GTPBP10,PES1,MRPL53,TCEB2,MTG2,CHORDC1,RPSA,POLR3H \n",
            "INFO  @ Wed, 18 Sep 2024 12:48:00: Loading top 10 genes from all_vs_control.gene.high.txt: TSC2,TSC1,LacZ,DOT1L,DBF4,KCTD5,DEPDC5,OR52E4,CSK,IPCEF1 \n",
            "INFO  @ Wed, 18 Sep 2024 12:48:00: Running command: rm all_vs_control.plow.txt \n",
            "INFO  @ Wed, 18 Sep 2024 12:48:00: Running command: rm all_vs_control.phigh.txt \n",
            "INFO  @ Wed, 18 Sep 2024 12:48:00: Running command: rm all_vs_control.gene.low.txt \n",
            "INFO  @ Wed, 18 Sep 2024 12:48:00: Running command: rm all_vs_control.gene.high.txt \n"
          ]
        }
      ]
    },
    {
      "cell_type": "markdown",
      "source": [
        "**Results**\n",
        "\n",
        "As this block of code executes, it will progressively generate several files when the steps of the MAGECK process complete. One of the first files generated will be a `.normalized.txt` file that contains recalculated guide counts from median normalisation. Median normalisation should help control for differences in the total amount of sequencing reads between samples (imagine you had accidentally generated 1.5 million reads for one sample and 1 million reads for the other samples).\n",
        "\n",
        "Let's visualise this file and the results of normalisation in R:"
      ],
      "metadata": {
        "id": "U53wQF0M2COc"
      },
      "id": "U53wQF0M2COc"
    },
    {
      "cell_type": "code",
      "source": [
        "%%R\n",
        "normalised_counts <- read_tsv(\"/content/all_vs_control.normalized.txt\") |>\n",
        "                     pivot_longer(cols = contains(\"HAP1\"),\n",
        "                                  values_to = \"counts\",\n",
        "                                  names_to = \"sample\")\n",
        "\n",
        "ggplot(normalised_counts, aes(x = sample, y=log2(counts+1))) +\n",
        "geom_boxplot(aes(fill = sample))\n",
        "\n"
      ],
      "metadata": {
        "colab": {
          "base_uri": "https://localhost:8080/",
          "height": 633
        },
        "id": "5-oV7zOt2X6n",
        "outputId": "88d8eddb-f54d-488a-c181-768cc2338a58"
      },
      "id": "5-oV7zOt2X6n",
      "execution_count": 11,
      "outputs": [
        {
          "output_type": "stream",
          "name": "stdout",
          "text": [
            "Rows: 71090 Columns: 6\n",
            "── Column specification ────────────────────────────────────────────────────────\n",
            "Delimiter: \"\\t\"\n",
            "chr (2): sgRNA, Gene\n",
            "dbl (4): HAP1_T0, HAP1_T18A, HAP1_T18B, HAP1_T18C\n",
            "\n",
            "ℹ Use `spec()` to retrieve the full column specification for this data.\n",
            "ℹ Specify the column types or set `show_col_types = FALSE` to quiet this message.\n"
          ]
        },
        {
          "output_type": "display_data",
          "data": {
            "image/png": "[encoded data removed]"
          },
          "metadata": {}
        }
      ]
    },
    {
      "cell_type": "markdown",
      "source": [
        "\n",
        "---\n",
        "### Questions\n",
        "- If you look back at the boxplots of the raw guide counts that we generated earlier, how has median normalisation affected the dataset?\n",
        "---"
      ],
      "metadata": {
        "id": "JCuia4vW3f_4"
      },
      "id": "JCuia4vW3f_4"
    },
    {
      "cell_type": "markdown",
      "source": [
        "**Summary files**\n",
        "\n",
        "The next two outputs from the tool that are worth inspecting are the guide-level and gene-level summaries.\n",
        "\n",
        "**Guide-level summary**\n",
        "\n",
        "The guide-level summary tell us the degree to which each guide RNA was depleted or enriched during the screen. We could look at the most depleted guides from the library like so:"
      ],
      "metadata": {
        "id": "A3XAwZnPGow5"
      },
      "id": "A3XAwZnPGow5"
    },
    {
      "cell_type": "code",
      "source": [
        "%%R\n",
        "read_tsv(\"/content/all_vs_control.sgrna_summary.txt\") |>\n",
        "filter(LFC < 0) |>\n",
        "select(sgrna, Gene, control_mean, treat_mean, LFC, FDR) |>\n",
        "arrange(FDR)"
      ],
      "metadata": {
        "colab": {
          "base_uri": "https://localhost:8080/"
        },
        "id": "PI_Ov4hbGZtv",
        "outputId": "04939c67-0ebf-4b26-8b50-40f585f8e78a"
      },
      "id": "PI_Ov4hbGZtv",
      "execution_count": 12,
      "outputs": [
        {
          "output_type": "stream",
          "name": "stdout",
          "text": [
            "Rows: 71090 Columns: 15\n",
            "── Column specification ────────────────────────────────────────────────────────\n",
            "Delimiter: \"\\t\"\n",
            "chr  (3): sgrna, Gene, treatment_count\n",
            "dbl (11): control_count, control_mean, treat_mean, LFC, control_var, adj_var...\n",
            "lgl  (1): high_in_treatment\n",
            "\n",
            "ℹ Use `spec()` to retrieve the full column specification for this data.\n",
            "ℹ Specify the column types or set `show_col_types = FALSE` to quiet this message.\n",
            "# A tibble: 35,546 × 6\n",
            "   sgrna                Gene     control_mean treat_mean    LFC        FDR\n",
            "   <chr>                <chr>           <dbl>      <dbl>  <dbl>      <dbl>\n",
            " 1 CGGCGGCTCCCACTCACCCA CPSF3L          1558.       15.2  -6.58 0.00000269\n",
            " 2 CGAGCTCAAGACCTACCACG PRPF38B         1254.        0   -10.3  0.00000361\n",
            " 3 TCAGACAGGTGACAGGCCCG WDR18           1667.       92.6  -4.15 0.0000104 \n",
            " 4 CGACAAGATGGCCACACCGG EIF3F           1475.       37.5  -5.26 0.0000145 \n",
            " 5 CGAAGTCAAAGCCACCACTG WDR25           1586.       78.6  -4.32 0.0000155 \n",
            " 6 ACTCTCCTCAGATGCCGCCA NPLOC4          1877       228.   -3.04 0.0000168 \n",
            " 7 TCACCCGTCCGTCACCTCCG C12orf45        1286.       11.6  -6.67 0.0000211 \n",
            " 8 TCGACACACAGCCACCGCCA C7orf26         1495.       65.7  -4.49 0.0000246 \n",
            " 9 TCTGCTAGCTCCCTATGCCA ATP5B           1004.        0    -9.97 0.0000307 \n",
            "10 CACGAGGAAGACCATACCCT POLR1D           965.        0    -9.92 0.0000428 \n",
            "# ℹ 35,536 more rows\n",
            "# ℹ Use `print(n = ...)` to see more rows\n"
          ]
        }
      ]
    },
    {
      "cell_type": "markdown",
      "source": [
        "How could you revise that code snippet to return the most enriched guides in the experiment?"
      ],
      "metadata": {
        "id": "kEjea1taLi4R"
      },
      "id": "kEjea1taLi4R"
    },
    {
      "cell_type": "code",
      "source": [
        "# Enter your solution here"
      ],
      "metadata": {
        "id": "ujRDYFT-LdJu"
      },
      "id": "ujRDYFT-LdJu",
      "execution_count": 14,
      "outputs": []
    },
    {
      "cell_type": "markdown",
      "source": [
        "Remember in these results files LFC (logFoldChange) represents the magnitude of the depletion/enrichment (effect size) and FDR represents our level of statistical confidence that the depletion is not due to random chance. FDR is shorthand for \"adjusted P-value subject to Benjami-Hochberg False discovery rate correction\" here. This is a transformation commonly applied to p-values in large bioinformatics datasets; it is used to account for a statistical problem called \"multiple testing\".\n",
        "\n",
        "**Gene-level summary**\n",
        "\n",
        "The gene-level summary file tells us which genes are the most strongly perturbed in the screen:"
      ],
      "metadata": {
        "id": "Ac7H2U7yIptj"
      },
      "id": "Ac7H2U7yIptj"
    },
    {
      "cell_type": "code",
      "source": [
        "%%R\n",
        "read_tsv(\"/content/all_vs_control.gene_summary.txt\")"
      ],
      "metadata": {
        "colab": {
          "base_uri": "https://localhost:8080/"
        },
        "id": "mZfufc9JGje4",
        "outputId": "86afdbbd-8e27-495a-a2ea-f3320b5c70af"
      },
      "id": "mZfufc9JGje4",
      "execution_count": 15,
      "outputs": [
        {
          "output_type": "stream",
          "name": "stdout",
          "text": [
            "Rows: 18056 Columns: 14\n",
            "── Column specification ────────────────────────────────────────────────────────\n",
            "Delimiter: \"\\t\"\n",
            "chr  (1): id\n",
            "dbl (13): num, neg|score, neg|p-value, neg|fdr, neg|rank, neg|goodsgrna, neg...\n",
            "\n",
            "ℹ Use `spec()` to retrieve the full column specification for this data.\n",
            "ℹ Specify the column types or set `show_col_types = FALSE` to quiet this message.\n",
            "# A tibble: 18,056 × 14\n",
            "   id        num  `neg|score` `neg|p-value` `neg|fdr` `neg|rank` `neg|goodsgrna`\n",
            "   <chr>   <dbl>        <dbl>         <dbl>     <dbl>      <dbl>           <dbl>\n",
            " 1 POLR2L      4      3.85e-9   0.000000274   0.00103          1               4\n",
            " 2 EIF3A       4      2.08e-8   0.000000274   0.00103          2               4\n",
            " 3 GTPBP10     4      7.41e-8   0.000000274   0.00103          3               4\n",
            " 4 PES1        4      9.76e-8   0.000000274   0.00103          4               4\n",
            " 5 MRPL53      4      1.35e-7   0.000000823   0.00103          5               4\n",
            " 6 TCEB2       4      1.36e-7   0.000000823   0.00103          6               4\n",
            " 7 MTG2        4      1.64e-7   0.000000823   0.00103          7               4\n",
            " 8 CHORDC1     4      1.75e-7   0.000000823   0.00103          8               4\n",
            " 9 RPSA        4      1.83e-7   0.000000823   0.00103          9               4\n",
            "10 POLR3H      4      2.74e-7   0.00000137    0.00103         10               4\n",
            "# ℹ 18,046 more rows\n",
            "# ℹ 7 more variables: `neg|lfc` <dbl>, `pos|score` <dbl>, `pos|p-value` <dbl>,\n",
            "#   `pos|fdr` <dbl>, `pos|rank` <dbl>, `pos|goodsgrna` <dbl>, `pos|lfc` <dbl>\n",
            "# ℹ Use `print(n = ...)` to see more rows\n"
          ]
        }
      ]
    },
    {
      "cell_type": "markdown",
      "source": [
        "These gene level statistics are generated in MAGECK by combining the results that were obtained when mutliple guides in the library targeted a gene. This way genes where multiple guides have large peturbations will have larger summary scores.\n",
        "\n",
        "\n",
        "----\n",
        "### Questions\n",
        "- Take a look at the top gene's reported in the cell above and perform a quick internet search for them in another tab. Does their behaviour in the screen match up with what you might expect?\n",
        "\n",
        "----\n"
      ],
      "metadata": {
        "id": "1FFm86BTKNt_"
      },
      "id": "1FFm86BTKNt_"
    },
    {
      "cell_type": "markdown",
      "source": [
        "If we were to pick out a particular gene - e.g. *PRPF38B* and look at it's counts in different samples we should see a similar picture:\n"
      ],
      "metadata": {
        "id": "TZoK9TKnCq78"
      },
      "id": "TZoK9TKnCq78"
    },
    {
      "cell_type": "code",
      "source": [
        "%%R\n",
        "\n",
        "normalised_counts <- read_tsv(\"/content/all_vs_control.normalized.txt\") |>\n",
        "                     pivot_longer(cols = contains(\"HAP1\"),\n",
        "                                  values_to = \"counts\",\n",
        "                                  names_to = \"sample\")\n",
        "genewise_counts <- normalised_counts |>\n",
        "filter(Gene == \"PRPF38B\") |>\n",
        "mutate(screen_stage = case_when(sample == \"HAP1_T0\" ~ \"before\",\n",
        "                                TRUE ~ \"post_screen\"))\n",
        "genewise_counts\n",
        "\n",
        "ggplot(genewise_counts, aes(x= sgRNA, y = log2(counts + 1))) +\n",
        "geom_boxplot(aes(fill = screen_stage)) +\n",
        "geom_jitter(data = genewise_counts, aes(x = sgRNA, y = log2(counts+1), color = screen_stage),\n",
        "            position = position_jitterdodge(jitter.width = 0.2, dodge.width = 0.7)) +\n",
        "theme(axis.text.x = element_text(angle = 90, hjust = 1))\n"
      ],
      "metadata": {
        "colab": {
          "base_uri": "https://localhost:8080/",
          "height": 633
        },
        "id": "5FiWEuIlTIQ0",
        "outputId": "9b902508-c739-4fde-9162-e873db073314"
      },
      "id": "5FiWEuIlTIQ0",
      "execution_count": 23,
      "outputs": [
        {
          "output_type": "stream",
          "name": "stdout",
          "text": [
            "Rows: 71090 Columns: 6\n",
            "── Column specification ────────────────────────────────────────────────────────\n",
            "Delimiter: \"\\t\"\n",
            "chr (2): sgRNA, Gene\n",
            "dbl (4): HAP1_T0, HAP1_T18A, HAP1_T18B, HAP1_T18C\n",
            "\n",
            "ℹ Use `spec()` to retrieve the full column specification for this data.\n",
            "ℹ Specify the column types or set `show_col_types = FALSE` to quiet this message.\n"
          ]
        },
        {
          "output_type": "display_data",
          "data": {
            "image/png": "[encoded data removed]"
          },
          "metadata": {}
        }
      ]
    },
    {
      "cell_type": "code",
      "source": [
        "# Why not try adapting the code to another gene"
      ],
      "metadata": {
        "id": "Qpk77WsNQbu_"
      },
      "id": "Qpk77WsNQbu_",
      "execution_count": null,
      "outputs": []
    },
    {
      "cell_type": "markdown",
      "source": [
        "**How summarising across guides works**\n",
        "\n",
        "Summarising across genes is achieved in MAGECK by a technique called Robust Rank Aggregation (RRA). RRA organises guides into a list according to the *p-value* for their depletion/enrichment. In the figure below this would mean the most significantly depleted guides (with the smallest p-values) are placed at the left hand side of the list. The algorithm then looks for genes whose guides are not evenly distributed throughout the list (*e.g.* a gene who's guides are all perturbed and whose p-values are all situated at the left hand side).\n",
        "\n",
        "**Figure 5: Robust Rank Aggregation**\n",
        "\n",
        "![Figure 5: Robust Rank Aggregation](https://github.com/WCSCourses/CRISPR_Informatics_2024/blob/jb63_screening_module/modules/crispr_screen_analysis/figures/robust_rank_aggregation.png?raw=1)\n",
        "\n",
        "\n"
      ],
      "metadata": {
        "id": "rRTcS2YwTPPr"
      },
      "id": "rRTcS2YwTPPr"
    },
    {
      "cell_type": "markdown",
      "source": [
        "<a name=\"step4\"></a>\n",
        "## Step 4: Validating the results of our screen  \n",
        "\n",
        "All of this looks good so far, but how can we be sure that our screen worked the way it should?\n",
        "\n",
        "\n",
        "In other experimental methods you would probably want to use a positive and negative control to check that everything behaved as you might expect. It turns out we can do the same in a CRISPR screen by including in-built controls within the library.\n",
        "- For a **negative control** we can look at the behaviour of guides that target known **Non-essential genes** (NEGs)\n",
        "- For a **postive control** we can look at the behaviour of guides targeting known **Common essential genes** (CEGs) that in previous experiments have been shown to cause cell death when targeted.\n",
        "\n",
        "So let's read in some files that contain these genes and label the genes in our CRISPR dataset according to their expected behaviour."
      ],
      "metadata": {
        "id": "WmsJr6YMGYcO"
      },
      "id": "WmsJr6YMGYcO"
    },
    {
      "cell_type": "code",
      "source": [
        "  %%R\n",
        "non_essential <- read_tsv(\"/content/NEGv1.txt\") |>\n",
        "select(GENE) |>\n",
        "mutate(type = \"non-essential\")\n",
        "\n",
        "essential <- read_tsv(\"/content/CEGv2.txt\") |>\n",
        "select(GENE) |>\n",
        "mutate(type = \"common-essential\")\n",
        "\n",
        "\n",
        "essentiality_class <- bind_rows(non_essential, essential)\n",
        "essentiality_class\n"
      ],
      "metadata": {
        "colab": {
          "base_uri": "https://localhost:8080/"
        },
        "id": "jhwsjU-4XQcS",
        "outputId": "09626bd0-994c-4bd9-c213-f322e1ed9704"
      },
      "id": "jhwsjU-4XQcS",
      "execution_count": 24,
      "outputs": [
        {
          "output_type": "stream",
          "name": "stdout",
          "text": [
            "Rows: 927 Columns: 3\n",
            "── Column specification ────────────────────────────────────────────────────────\n",
            "Delimiter: \"\\t\"\n",
            "chr (2): GENE, HGNC_ID\n",
            "dbl (1): ENTREZ_ID\n",
            "\n",
            "ℹ Use `spec()` to retrieve the full column specification for this data.\n",
            "ℹ Specify the column types or set `show_col_types = FALSE` to quiet this message.\n",
            "Rows: 684 Columns: 3\n",
            "── Column specification ────────────────────────────────────────────────────────\n",
            "Delimiter: \"\\t\"\n",
            "chr (2): GENE, HGNC_ID\n",
            "dbl (1): ENTREZ_ID\n",
            "\n",
            "ℹ Use `spec()` to retrieve the full column specification for this data.\n",
            "ℹ Specify the column types or set `show_col_types = FALSE` to quiet this message.\n",
            "# A tibble: 1,611 × 2\n",
            "   GENE   type         \n",
            "   <chr>  <chr>        \n",
            " 1 ABCG8  non-essential\n",
            " 2 ACCSL  non-essential\n",
            " 3 ACTL7A non-essential\n",
            " 4 ACTL7B non-essential\n",
            " 5 ACTL9  non-essential\n",
            " 6 ACTRT1 non-essential\n",
            " 7 ADAD1  non-essential\n",
            " 8 ADAM18 non-essential\n",
            " 9 ADAM2  non-essential\n",
            "10 ADAM20 non-essential\n",
            "# ℹ 1,601 more rows\n",
            "# ℹ Use `print(n = ...)` to see more rows\n"
          ]
        }
      ]
    },
    {
      "cell_type": "markdown",
      "source": [
        "Executing the code above gives us a dataframe in R that describes which genes are essential and which are non-essential. Now, let's add this information to our gene-level dataset to see what kind of genes are amongst our top most depleted genes.\n",
        "\n",
        "We can link up the two pieces of data using an operation called a join - where rows with matching \"keys\" –in this case gene names– get merged.\n"
      ],
      "metadata": {
        "id": "Mrz88IJRQx41"
      },
      "id": "Mrz88IJRQx41"
    },
    {
      "cell_type": "code",
      "source": [
        "%%R\n",
        "gene_summary_data <- read_tsv(\"/content/all_vs_control.gene_summary.txt\")\n",
        "\n",
        "annotated_data <- left_join(gene_summary_data, essentiality_class, by = c(\"id\" = \"GENE\"))\n",
        "\n",
        "annotated_data |>\n",
        "select(id, type, `neg|score`, `neg|fdr`)"
      ],
      "metadata": {
        "colab": {
          "base_uri": "https://localhost:8080/"
        },
        "id": "UnCol2UpQ6tO",
        "outputId": "b90069b5-3b19-42d1-9d23-4d21824a556d"
      },
      "id": "UnCol2UpQ6tO",
      "execution_count": 26,
      "outputs": [
        {
          "output_type": "stream",
          "name": "stdout",
          "text": [
            "Rows: 18056 Columns: 14\n",
            "── Column specification ────────────────────────────────────────────────────────\n",
            "Delimiter: \"\\t\"\n",
            "chr  (1): id\n",
            "dbl (13): num, neg|score, neg|p-value, neg|fdr, neg|rank, neg|goodsgrna, neg...\n",
            "\n",
            "ℹ Use `spec()` to retrieve the full column specification for this data.\n",
            "ℹ Specify the column types or set `show_col_types = FALSE` to quiet this message.\n",
            "# A tibble: 18,057 × 4\n",
            "   id      type               `neg|score` `neg|fdr`\n",
            "   <chr>   <chr>                    <dbl>     <dbl>\n",
            " 1 POLR2L  common-essential 0.00000000385   0.00103\n",
            " 2 EIF3A   common-essential 0.0000000208    0.00103\n",
            " 3 GTPBP10 <NA>             0.0000000741    0.00103\n",
            " 4 PES1    <NA>             0.0000000976    0.00103\n",
            " 5 MRPL53  common-essential 0.000000135     0.00103\n",
            " 6 TCEB2   <NA>             0.000000136     0.00103\n",
            " 7 MTG2    common-essential 0.000000164     0.00103\n",
            " 8 CHORDC1 <NA>             0.000000175     0.00103\n",
            " 9 RPSA    <NA>             0.000000183     0.00103\n",
            "10 POLR3H  common-essential 0.000000274     0.00103\n",
            "# ℹ 18,047 more rows\n",
            "# ℹ Use `print(n = ...)` to see more rows\n"
          ]
        }
      ]
    },
    {
      "cell_type": "markdown",
      "source": [
        "\n",
        "Take a look at the annotations given to the top most depleted genes Do they line up with what you'd expect?\n",
        "\n",
        "\n",
        "### A more quantitative approach\n",
        "\n",
        "We can quantify the the success of a screen by comparing the degree to which common essential genes deplete relative to non-essential genes. At WTSI we frequently use a summary stastistic called the Null Normalised Mean Difference (NNMD) for this purpose. Essentially a more negative NNMD for a CRISPR screen indicates a larger seperation in behaviour between core essential and non-essential genes.\n",
        "\n",
        "It is calculated as:\n",
        "\n",
        "$$\n",
        "\\text{NNMD} = \\frac{\\text{Mean(LFC_CEGs)} -\\text{Mean(LFC_NEGs)}}{\\text{Std-dev(LFC_NEGs)}}\n",
        "$$\n",
        "\n",
        "\n",
        "So, when we calculate the NNMD of this screen by runninng the code block below we get a value of....\n",
        "\n"
      ],
      "metadata": {
        "id": "KrsjQEsJf4bd"
      },
      "id": "KrsjQEsJf4bd"
    },
    {
      "cell_type": "code",
      "source": [
        "%%R\n",
        "  # Calculate nnmd\n",
        "  nnmd <- annotated_data |>\n",
        "    dplyr::rename(LFC = `neg|lfc`) |>\n",
        "    group_by(type) |>\n",
        "    summarise(mean_lfc = mean(LFC), sd_lfc = sd(LFC)) |>\n",
        "    pivot_wider(names_from = type,\n",
        "                values_from = c(mean_lfc, sd_lfc)) |>\n",
        "    mutate(nnmd = (`mean_lfc_common-essential` - `mean_lfc_non-essential`) /\n",
        "                 `sd_lfc_non-essential`) |>\n",
        "    mutate(nnmd_label = sprintf('NNMD = %.2f', nnmd))\n",
        "  nnmd |> select(nnmd)"
      ],
      "metadata": {
        "colab": {
          "base_uri": "https://localhost:8080/"
        },
        "id": "1AWWUYbOfo34",
        "outputId": "0f560c27-5353-4c0a-9fa0-065dc2fb5e52"
      },
      "id": "1AWWUYbOfo34",
      "execution_count": 27,
      "outputs": [
        {
          "output_type": "stream",
          "name": "stdout",
          "text": [
            "# A tibble: 1 × 1\n",
            "   nnmd\n",
            "  <dbl>\n",
            "1 -7.46\n"
          ]
        }
      ]
    },
    {
      "cell_type": "markdown",
      "source": [
        "**Results and reflections**\n",
        "\n",
        "The Cancer dependency map requires an NNMD value of -1.0 or less to consider a screen suitable for further analysis, so the results of this screen look encouraging! Our known essential genes are getting depleted 🎉\n",
        "\n",
        "We can visualise what the NNMD score for the screen represents by plotting the distribution of changes in gRNA counts for our negative and positive control genes. In this plot the `NA` genes are those where the essentiality was not known beforehand.\n"
      ],
      "metadata": {
        "id": "puKEb6wni9Nk"
      },
      "id": "puKEb6wni9Nk"
    },
    {
      "cell_type": "code",
      "source": [
        "\n",
        "%%R\n",
        "ggplot(annotated_data, aes(x = `neg|lfc`, fill = type)) +\n",
        "          geom_density(alpha = 0.5) +\n",
        "          labs(x = \"LFC\", y = \"Density\") +\n",
        "          theme_bw() +\n",
        "          theme(legend.position = \"top\", panel.border = element_blank()) +\n",
        "          scale_fill_discrete(\n",
        "            labels = c(\"Positive Controls\", \"Negative Controls\")\n",
        "          ) +\n",
        "          scale_y_continuous(expand = c(0, 0)) +\n",
        "          annotate(\n",
        "            \"text\", x = Inf, y = Inf, label = nnmd[[\"nnmd_label\"]],\n",
        "            hjust = 1.1, vjust = 2, size = 5, colour = \"black\"\n",
        "          )"
      ],
      "metadata": {
        "colab": {
          "base_uri": "https://localhost:8080/",
          "height": 497
        },
        "id": "MG-zNSYRbW3X",
        "outputId": "86540026-6abb-4c26-c96d-ffb775f094c2"
      },
      "id": "MG-zNSYRbW3X",
      "execution_count": 28,
      "outputs": [
        {
          "output_type": "display_data",
          "data": {
            "image/png": "[encoded data removed]"
          },
          "metadata": {}
        }
      ]
    },
    {
      "cell_type": "markdown",
      "source": [
        "----\n",
        "### Questions\n",
        "- Looking at the distribution above, what can you say about the essentiality of the genes with unknown essentiality (NA) in this HAP1 cell line?\n",
        "- Imagine you were working in a non-model organism and didn't have a list of non-essential genes to use as a negative control. What guides could you use instead?\n",
        "- Similarly, can you think of an alternative set of guides that you might be able to use as a positive control?\n",
        "\n",
        "----\n",
        "\n",
        "Since we now have some confidence that the screen was a success, let's visualise it's results with a volcano plot. Volcano plots can be a helpful final stage visualisation for this kind of data because they include both effect sizes (LogFoldChanges) and stastical confidence measures (p-values). Points towards the top of the volcano plot represent genes with smaller p-values; points towards the sides represent genes with larger changes in scores. We'll colour genes that pass statistical testing in blue and highlight some of our top genes:\n"
      ],
      "metadata": {
        "id": "ls_P7x_CRh3l"
      },
      "id": "ls_P7x_CRh3l"
    },
    {
      "cell_type": "code",
      "source": [
        "\n",
        "%%R\n",
        "library(ggrepel)\n",
        "gene_summary <- annotated_data |>\n",
        "        mutate(Significant = ifelse(`neg|fdr` < 0.05, \"Yes\", \"No\"))\n",
        "\n",
        "gene_summary_labels <- gene_summary |>\n",
        "    filter(`neg|fdr` < 0.05) |>\n",
        "    head(5)\n",
        "\n",
        "ggplot(gene_summary, aes(x = `neg|lfc`, y = -log10(`neg|fdr`),\n",
        "                                 label = id, color = Significant)) +\n",
        "                geom_point(alpha = 0.8) +\n",
        "                geom_text_repel(data = gene_summary_labels, aes(label = id),\n",
        "                        size = 5, nudge_y = 0.1,\n",
        "                        force = 10, max.overlaps = Inf) +\n",
        "                scale_color_manual(values = c(\"darkgrey\", \"steelblue\")) +\n",
        "                theme_bw() +\n",
        "                theme(legend.position = \"none\",\n",
        "                        panel.grid.major = element_blank(),\n",
        "                        panel.grid.minor = element_blank(),\n",
        "                        panel.border = element_blank(),\n",
        "                        axis.line = element_line(color = \"black\"),\n",
        "                        axis.line.x.top = element_blank(),\n",
        "                        axis.line.y.right = element_blank()) +\n",
        "                labs(x = \"LFC\", y = \"-log10(p-value)\")\n"
      ],
      "metadata": {
        "colab": {
          "base_uri": "https://localhost:8080/",
          "height": 497
        },
        "id": "ZfaqEkNeuN2G",
        "outputId": "fa77602d-56a7-454a-892f-a9403fa7eaad"
      },
      "id": "ZfaqEkNeuN2G",
      "execution_count": 30,
      "outputs": [
        {
          "output_type": "display_data",
          "data": {
            "image/png": "[encoded data removed]"
          },
          "metadata": {}
        }
      ]
    },
    {
      "cell_type": "markdown",
      "source": [
        "---\n",
        "Question;\n",
        "\n",
        "If you have ever created a volcano plot for other kinds of bioinformatics analysis such as transcriptomics this volcano plot might look quite strange. How does a CRISPR knockout volcano plot differ from others you've seen? Does it make sense why?\n",
        "\n",
        "---"
      ],
      "metadata": {
        "id": "zxfi8ALMk7AX"
      },
      "id": "zxfi8ALMk7AX"
    },
    {
      "cell_type": "markdown",
      "id": "9c7545e5",
      "metadata": {
        "id": "9c7545e5"
      },
      "source": [
        "## <a name=\"step5\"></a>\n",
        "## Step 5: Other tools for CRISPR screen analysis and post-processing considerations\n",
        "\n",
        "MAGECK is not the only game in town - there are several other tools that can be applied to the task we have just performed (and accompanying papers about why each of them gives the best results of the lot!).\n",
        "\n",
        "**gscreend**\n",
        "\n",
        "One example of the more recently published CRISPR analysis tool is [gscreend](https://genomebiology.biomedcentral.com/articles/10.1186/s13059-020-1939-1), an R package that performs the same kind of screen analysis as MAGECK. Gscreend accounts for percularities of CRISPR knockout screen data (namely, population bottlenecks and the fact that the majority of changes in a CRISPR ko screen are depletions).\n",
        "\n",
        "We can run gscreend by on our dataset by installing a couple of R packages. This will take a little while, so execute the next code block and take a quick break whilst it runs.\n",
        "\n"
      ]
    },
    {
      "cell_type": "code",
      "source": [
        "%%R\n",
        "install.packages(\"BiocManager\",update = FALSE)\n",
        "BiocManager::install(\"gscreend\",ask = FALSE)"
      ],
      "metadata": {
        "id": "ELxJszktg6rI",
        "outputId": "fe35e4dd-1378-4343-dda8-2fcdeb6689aa",
        "colab": {
          "base_uri": "https://localhost:8080/"
        }
      },
      "id": "ELxJszktg6rI",
      "execution_count": 36,
      "outputs": [
        {
          "output_type": "stream",
          "name": "stderr",
          "text": [
            "R[write to console]: Installing package into ‘/usr/local/lib/R/site-library’\n",
            "(as ‘lib’ is unspecified)\n",
            "\n",
            "R[write to console]: trying URL 'https://cran.rstudio.com/src/contrib/BiocManager_1.30.25.tar.gz'\n",
            "\n",
            "R[write to console]: Content type 'application/x-gzip'\n",
            "R[write to console]:  length 593414 bytes (579 KB)\n",
            "\n",
            "R[write to console]: =\n",
            "R[write to console]: =\n",
            "R[write to console]: =\n",
            "R[write to console]: =\n",
            "R[write to console]: =\n",
            "R[write to console]: =\n",
            "R[write to console]: =\n",
            "R[write to console]: =\n",
            "R[write to console]: =\n",
            "R[write to console]: =\n",
            "R[write to console]: =\n",
            "R[write to console]: =\n",
            "R[write to console]: =\n",
            "R[write to console]: =\n",
            "R[write to console]: =\n",
            "R[write to console]: =\n",
            "R[write to console]: =\n",
            "R[write to console]: =\n",
            "R[write to console]: =\n",
            "R[write to console]: =\n",
            "R[write to console]: =\n",
            "R[write to console]: =\n",
            "R[write to console]: =\n",
            "R[write to console]: =\n",
            "R[write to console]: =\n",
            "R[write to console]: =\n",
            "R[write to console]: =\n",
            "R[write to console]: =\n",
            "R[write to console]: =\n",
            "R[write to console]: =\n",
            "R[write to console]: =\n",
            "R[write to console]: =\n",
            "R[write to console]: =\n",
            "R[write to console]: =\n",
            "R[write to console]: =\n",
            "R[write to console]: =\n",
            "R[write to console]: =\n",
            "R[write to console]: =\n",
            "R[write to console]: =\n",
            "R[write to console]: =\n",
            "R[write to console]: =\n",
            "R[write to console]: =\n",
            "R[write to console]: =\n",
            "R[write to console]: =\n",
            "R[write to console]: =\n",
            "R[write to console]: =\n",
            "R[write to console]: =\n",
            "R[write to console]: =\n",
            "R[write to console]: =\n",
            "R[write to console]: =\n",
            "R[write to console]: \n",
            "\n",
            "R[write to console]: downloaded 579 KB\n",
            "\n",
            "\n",
            "R[write to console]: \n",
            "\n",
            "R[write to console]: \n",
            "R[write to console]: The downloaded source packages are in\n",
            "\t‘/tmp/RtmpI9khQl/downloaded_packages’\n",
            "R[write to console]: \n",
            "R[write to console]: \n",
            "\n",
            "R[write to console]: 'getOption(\"repos\")' replaces Bioconductor standard repositories, see\n",
            "'help(\"repositories\", package = \"BiocManager\")' for details.\n",
            "Replacement repositories:\n",
            "    CRAN: https://cran.rstudio.com\n",
            "\n",
            "R[write to console]: Bioconductor version 3.19 (BiocManager 1.30.25), R 4.4.1 (2024-06-14)\n",
            "\n",
            "R[write to console]: Old packages: 'pbdZMQ', 'evaluate', 'pkgdown', 'tinytex'\n",
            "\n",
            "R[write to console]: trying URL 'https://cran.rstudio.com/src/contrib/pbdZMQ_0.3-13.tar.gz'\n",
            "\n",
            "R[write to console]: Content type 'application/x-gzip'\n",
            "R[write to console]:  length 1213812 bytes (1.2 MB)\n",
            "\n",
            "R[write to console]: =\n",
            "R[write to console]: =\n",
            "R[write to console]: =\n",
            "R[write to console]: =\n",
            "R[write to console]: =\n",
            "R[write to console]: =\n",
            "R[write to console]: =\n",
            "R[write to console]: =\n",
            "R[write to console]: =\n",
            "R[write to console]: =\n",
            "R[write to console]: =\n",
            "R[write to console]: =\n",
            "R[write to console]: =\n",
            "R[write to console]: =\n",
            "R[write to console]: =\n",
            "R[write to console]: =\n",
            "R[write to console]: =\n",
            "R[write to console]: =\n",
            "R[write to console]: =\n",
            "R[write to console]: =\n",
            "R[write to console]: =\n",
            "R[write to console]: =\n",
            "R[write to console]: =\n",
            "R[write to console]: =\n",
            "R[write to console]: =\n",
            "R[write to console]: =\n",
            "R[write to console]: =\n",
            "R[write to console]: =\n",
            "R[write to console]: =\n",
            "R[write to console]: =\n",
            "R[write to console]: =\n",
            "R[write to console]: =\n",
            "R[write to console]: =\n",
            "R[write to console]: =\n",
            "R[write to console]: =\n",
            "R[write to console]: =\n",
            "R[write to console]: =\n",
            "R[write to console]: =\n",
            "R[write to console]: =\n",
            "R[write to console]: =\n",
            "R[write to console]: =\n",
            "R[write to console]: =\n",
            "R[write to console]: =\n",
            "R[write to console]: =\n",
            "R[write to console]: =\n",
            "R[write to console]: =\n",
            "R[write to console]: =\n",
            "R[write to console]: =\n",
            "R[write to console]: =\n",
            "R[write to console]: =\n",
            "R[write to console]: \n",
            "\n",
            "R[write to console]: downloaded 1.2 MB\n",
            "\n",
            "\n",
            "R[write to console]: \n",
            "\n",
            "R[write to console]: \n",
            "R[write to console]: The downloaded source packages are in\n",
            "\t‘/tmp/RtmpI9khQl/downloaded_packages’\n",
            "R[write to console]: \n",
            "R[write to console]: \n",
            "\n",
            "R[write to console]: trying URL 'https://cran.rstudio.com/src/contrib/evaluate_1.0.0.tar.gz'\n",
            "\n",
            "R[write to console]: Content type 'application/x-gzip'\n",
            "R[write to console]:  length 34811 bytes (33 KB)\n",
            "\n",
            "R[write to console]: =\n",
            "R[write to console]: =\n",
            "R[write to console]: =\n",
            "R[write to console]: =\n",
            "R[write to console]: =\n",
            "R[write to console]: =\n",
            "R[write to console]: =\n",
            "R[write to console]: =\n",
            "R[write to console]: =\n",
            "R[write to console]: =\n",
            "R[write to console]: =\n",
            "R[write to console]: =\n",
            "R[write to console]: =\n",
            "R[write to console]: =\n",
            "R[write to console]: =\n",
            "R[write to console]: =\n",
            "R[write to console]: =\n",
            "R[write to console]: =\n",
            "R[write to console]: =\n",
            "R[write to console]: =\n",
            "R[write to console]: =\n",
            "R[write to console]: =\n",
            "R[write to console]: =\n",
            "R[write to console]: =\n",
            "R[write to console]: =\n",
            "R[write to console]: =\n",
            "R[write to console]: =\n",
            "R[write to console]: =\n",
            "R[write to console]: =\n",
            "R[write to console]: =\n",
            "R[write to console]: =\n",
            "R[write to console]: =\n",
            "R[write to console]: =\n",
            "R[write to console]: =\n",
            "R[write to console]: =\n",
            "R[write to console]: =\n",
            "R[write to console]: =\n",
            "R[write to console]: =\n",
            "R[write to console]: =\n",
            "R[write to console]: =\n",
            "R[write to console]: =\n",
            "R[write to console]: =\n",
            "R[write to console]: =\n",
            "R[write to console]: =\n",
            "R[write to console]: =\n",
            "R[write to console]: =\n",
            "R[write to console]: =\n",
            "R[write to console]: =\n",
            "R[write to console]: =\n",
            "R[write to console]: =\n",
            "R[write to console]: \n",
            "\n",
            "R[write to console]: downloaded 33 KB\n",
            "\n",
            "\n",
            "R[write to console]: trying URL 'https://cran.rstudio.com/src/contrib/pkgdown_2.1.1.tar.gz'\n",
            "\n",
            "R[write to console]: Content type 'application/x-gzip'\n",
            "R[write to console]:  length 1262300 bytes (1.2 MB)\n",
            "\n",
            "R[write to console]: =\n",
            "R[write to console]: =\n",
            "R[write to console]: =\n",
            "R[write to console]: =\n",
            "R[write to console]: =\n",
            "R[write to console]: =\n",
            "R[write to console]: =\n",
            "R[write to console]: =\n",
            "R[write to console]: =\n",
            "R[write to console]: =\n",
            "R[write to console]: =\n",
            "R[write to console]: =\n",
            "R[write to console]: =\n",
            "R[write to console]: =\n",
            "R[write to console]: =\n",
            "R[write to console]: =\n",
            "R[write to console]: =\n",
            "R[write to console]: =\n",
            "R[write to console]: =\n",
            "R[write to console]: =\n",
            "R[write to console]: =\n",
            "R[write to console]: =\n",
            "R[write to console]: =\n",
            "R[write to console]: =\n",
            "R[write to console]: =\n",
            "R[write to console]: =\n",
            "R[write to console]: =\n",
            "R[write to console]: =\n",
            "R[write to console]: =\n",
            "R[write to console]: =\n",
            "R[write to console]: =\n",
            "R[write to console]: =\n",
            "R[write to console]: =\n",
            "R[write to console]: =\n",
            "R[write to console]: =\n",
            "R[write to console]: =\n",
            "R[write to console]: =\n",
            "R[write to console]: =\n",
            "R[write to console]: =\n",
            "R[write to console]: =\n",
            "R[write to console]: =\n",
            "R[write to console]: =\n",
            "R[write to console]: =\n",
            "R[write to console]: =\n",
            "R[write to console]: =\n",
            "R[write to console]: =\n",
            "R[write to console]: =\n",
            "R[write to console]: =\n",
            "R[write to console]: =\n",
            "R[write to console]: =\n",
            "R[write to console]: \n",
            "\n",
            "R[write to console]: downloaded 1.2 MB\n",
            "\n",
            "\n",
            "R[write to console]: trying URL 'https://cran.rstudio.com/src/contrib/tinytex_0.53.tar.gz'\n",
            "\n",
            "R[write to console]: Content type 'application/x-gzip'\n",
            "R[write to console]:  length 35249 bytes (34 KB)\n",
            "\n",
            "R[write to console]: =\n",
            "R[write to console]: =\n",
            "R[write to console]: =\n",
            "R[write to console]: =\n",
            "R[write to console]: =\n",
            "R[write to console]: =\n",
            "R[write to console]: =\n",
            "R[write to console]: =\n",
            "R[write to console]: =\n",
            "R[write to console]: =\n",
            "R[write to console]: =\n",
            "R[write to console]: =\n",
            "R[write to console]: =\n",
            "R[write to console]: =\n",
            "R[write to console]: =\n",
            "R[write to console]: =\n",
            "R[write to console]: =\n",
            "R[write to console]: =\n",
            "R[write to console]: =\n",
            "R[write to console]: =\n",
            "R[write to console]: =\n",
            "R[write to console]: =\n",
            "R[write to console]: =\n",
            "R[write to console]: =\n",
            "R[write to console]: =\n",
            "R[write to console]: =\n",
            "R[write to console]: =\n",
            "R[write to console]: =\n",
            "R[write to console]: =\n",
            "R[write to console]: =\n",
            "R[write to console]: =\n",
            "R[write to console]: =\n",
            "R[write to console]: =\n",
            "R[write to console]: =\n",
            "R[write to console]: =\n",
            "R[write to console]: =\n",
            "R[write to console]: =\n",
            "R[write to console]: =\n",
            "R[write to console]: =\n",
            "R[write to console]: =\n",
            "R[write to console]: =\n",
            "R[write to console]: =\n",
            "R[write to console]: =\n",
            "R[write to console]: =\n",
            "R[write to console]: =\n",
            "R[write to console]: =\n",
            "R[write to console]: =\n",
            "R[write to console]: =\n",
            "R[write to console]: =\n",
            "R[write to console]: =\n",
            "R[write to console]: \n",
            "\n",
            "R[write to console]: downloaded 34 KB\n",
            "\n",
            "\n",
            "R[write to console]: \n",
            "\n",
            "R[write to console]: \n",
            "R[write to console]: The downloaded source packages are in\n",
            "\t‘/tmp/RtmpI9khQl/downloaded_packages’\n",
            "R[write to console]: \n",
            "R[write to console]: \n",
            "\n"
          ]
        }
      ]
    },
    {
      "cell_type": "markdown",
      "source": [
        "**Next step**\n",
        "\n",
        "Once the new R libraries we need for gscreend are installed, we will load them into our collab session with:"
      ],
      "metadata": {
        "id": "LDTkN1DTQKPK"
      },
      "id": "LDTkN1DTQKPK"
    },
    {
      "cell_type": "code",
      "source": [
        "%%R\n",
        "library(SummarizedExperiment)\n",
        "library(gscreend)\n",
        "\n"
      ],
      "metadata": {
        "id": "Woxrk_ZtoeAD"
      },
      "id": "Woxrk_ZtoeAD",
      "execution_count": 37,
      "outputs": []
    },
    {
      "cell_type": "markdown",
      "source": [
        "To run gscreend on the dataset we will need to reformat the data slightly, encoding the counts data within a \"counts matrix\" and then inputting our counts and sample metadata into a SummarizedExperiment data container."
      ],
      "metadata": {
        "id": "0_DCAhWyQ9Gp"
      },
      "id": "0_DCAhWyQ9Gp"
    },
    {
      "cell_type": "code",
      "source": [
        "%%R\n",
        "input_file <- read_tsv(\"reads_hap1.txt\")\n",
        "\n",
        "rowData <- data.frame(sgRNA_id = input_file$SEQUENCE,\n",
        "                    gene = input_file$GENE)\n",
        "\n",
        "colData <- data.frame(samplename = c(\"library\", \"RA\", \"RB\", \"RC\"),\n",
        "                    timepoint = c(\"T0\", \"T1\", \"T1\", \"T1\"))\n",
        "\n",
        "\n",
        "counts_matrix <- data.frame(input_file |> select(contains(\"HAP1\"))) |>\n",
        "                as.matrix() |>\n",
        "                unname()\n",
        "head(counts_matrix)\n",
        "\n"
      ],
      "metadata": {
        "id": "UwnbQTRG0DKv",
        "colab": {
          "base_uri": "https://localhost:8080/"
        },
        "outputId": "4d703f82-e1fd-4c67-c668-6ae973ff1f52"
      },
      "id": "UwnbQTRG0DKv",
      "execution_count": 39,
      "outputs": [
        {
          "output_type": "stream",
          "name": "stdout",
          "text": [
            "Rows: 71090 Columns: 6\n",
            "── Column specification ────────────────────────────────────────────────────────\n",
            "Delimiter: \"\\t\"\n",
            "chr (2): SEQUENCE, GENE\n",
            "dbl (4): HAP1_T0, HAP1_T18A, HAP1_T18B, HAP1_T18C\n",
            "\n",
            "ℹ Use `spec()` to retrieve the full column specification for this data.\n",
            "ℹ Specify the column types or set `show_col_types = FALSE` to quiet this message.\n",
            "     [,1] [,2] [,3] [,4]\n",
            "[1,]  239  245  230   62\n",
            "[2,] 1647  415  313  394\n",
            "[3,] 1480  492  388  415\n",
            "[4,]  888  387  297  202\n",
            "[5,]  266  176  327  328\n",
            "[6,]  294  183  254  131\n"
          ]
        }
      ]
    },
    {
      "cell_type": "code",
      "source": [
        "%%R\n",
        "se <- SummarizedExperiment(assays=list(counts=counts_matrix),\n",
        "                    rowData=rowData, colData=colData)\n",
        "se"
      ],
      "metadata": {
        "colab": {
          "base_uri": "https://localhost:8080/"
        },
        "id": "Za0VtDw9fnko",
        "outputId": "32cdd661-ea46-4829-91ad-9de8b23f96c4"
      },
      "id": "Za0VtDw9fnko",
      "execution_count": 40,
      "outputs": [
        {
          "output_type": "stream",
          "name": "stdout",
          "text": [
            "class: SummarizedExperiment \n",
            "dim: 71090 4 \n",
            "metadata(0):\n",
            "assays(1): counts\n",
            "rownames: NULL\n",
            "rowData names(2): sgRNA_id gene\n",
            "colnames: NULL\n",
            "colData names(2): samplename timepoint\n"
          ]
        }
      ]
    },
    {
      "cell_type": "markdown",
      "source": [
        "With the data now formatted correctly we can i) inform R that our experiment is a pooled CRISPR screen and ii) trigger the analysis process. Gscreend will perform several similar steps to MAGECK: normalising the data, calculating Log Fold Changes and aggregrating the results of guide RNAs to generate genes. This will take several minutes - so sit tight!"
      ],
      "metadata": {
        "id": "z9J-0CaWRffa"
      },
      "id": "z9J-0CaWRffa"
    },
    {
      "cell_type": "code",
      "source": [
        "%%R\n",
        "pse <- createPoolScreenExp(se)\n"
      ],
      "metadata": {
        "colab": {
          "base_uri": "https://localhost:8080/"
        },
        "id": "cvoRkNHHZ2ys",
        "outputId": "9aca7f3b-7d5e-4e93-90ad-3c646d400649"
      },
      "id": "cvoRkNHHZ2ys",
      "execution_count": 41,
      "outputs": [
        {
          "output_type": "stream",
          "name": "stderr",
          "text": [
            "R[write to console]: Creating PoolScreenExp object from a SummarizedExperiment object.\n",
            "\n",
            "R[write to console]: References and samples are named correctly.\n",
            "\n",
            "R[write to console]: Data concerning sgRNA and genes is provided.\n",
            "\n"
          ]
        }
      ]
    },
    {
      "cell_type": "code",
      "source": [
        "%%R\n",
        "pse_an <- RunGscreend(pse)"
      ],
      "metadata": {
        "colab": {
          "base_uri": "https://localhost:8080/"
        },
        "id": "Xg-VqNIVjU6U",
        "outputId": "ec15d5ea-ca1b-412a-c5d3-832577192ad0"
      },
      "id": "Xg-VqNIVjU6U",
      "execution_count": 42,
      "outputs": [
        {
          "output_type": "stream",
          "name": "stderr",
          "text": [
            "R[write to console]: Size normalized count data.\n",
            "\n",
            "R[write to console]: Calculated LFC.\n",
            "\n",
            "R[write to console]: Fitted null distribution.\n",
            "\n",
            "R[write to console]: Calculated p-values at gRNA level.\n",
            "\n",
            "R[write to console]: Ranking genes...\n",
            "\n",
            "R[write to console]: ... for positive fold changes\n",
            "\n",
            "R[write to console]: ... for negative fold changes\n",
            "\n",
            "R[write to console]: gscreend analysis has been completed.\n",
            "\n"
          ]
        }
      ]
    },
    {
      "cell_type": "markdown",
      "source": [
        "**Analysing the results**\n",
        "\n",
        "Gscreend will store the results of the analysis in a ResultsTable object. We can access these with the `ResultsTable` function and find out the most strongly depleted genes in the dataset like so:"
      ],
      "metadata": {
        "id": "BIBolOWhSSc9"
      },
      "id": "BIBolOWhSSc9"
    },
    {
      "cell_type": "code",
      "source": [
        "%%R\n",
        "res <- ResultsTable(pse_an, direction = \"negative\")\n",
        "write_tsv(res, \"gscreend_depleted_genes.tsv\")\n",
        "\n",
        "results_table <- res |>\n",
        "as_tibble() |>\n",
        "arrange(lfc)\n",
        "\n",
        "results_table"
      ],
      "metadata": {
        "id": "q-_92jvaa7wC"
      },
      "id": "q-_92jvaa7wC",
      "execution_count": null,
      "outputs": []
    },
    {
      "cell_type": "markdown",
      "source": [
        "---\n",
        "Question:\n",
        "- How do the top genes found with gscreend compare to those found with MAGECK?\n",
        "- For those familiar with R, feel free to try generating a volcano plot for this dataset!\n",
        "- As an extension if you have time and feel confident you might want to try plotting a comparison of the log fold change values obtained for the two methods. What do you notice?\n",
        "_--"
      ],
      "metadata": {
        "id": "pKbt5YqlbQ5A"
      },
      "id": "pKbt5YqlbQ5A"
    },
    {
      "cell_type": "code",
      "source": [
        "%%R\n",
        "# If you are feeling ambitous, try taking the results table from the above code cell and creating another volcano plot"
      ],
      "metadata": {
        "id": "otFA4C8Me2sx"
      },
      "id": "otFA4C8Me2sx",
      "execution_count": null,
      "outputs": []
    },
    {
      "cell_type": "code",
      "source": [
        "%%R\n",
        "# If you're feeling even more ambitious see if you can generate a plot to compare the results of the two methods (MAGECK vs GSCREEND)"
      ],
      "metadata": {
        "id": "AqvRJJzvjfv0"
      },
      "id": "AqvRJJzvjfv0",
      "execution_count": null,
      "outputs": []
    },
    {
      "cell_type": "markdown",
      "source": [
        "## Other analysis tools\n",
        "\n",
        "## BAGEL2\n",
        "\n",
        "It would be remiss if I didn't mention [BAGEL2](https://genomemedicine.biomedcentral.com/articles/10.1186/s13073-020-00809-3) here. BAGEL2 is another CRISPR analysis tool that calculates \"Bayes Factors\" to represent a gene's essentiality. It builds a classifier using NEG and CEG behaviours and uses this to assigns a likelihood for a gene being essential. In some scenarios BAGEL has better sensitivity to detect essential genes and it's latest version can better accounts for the off-target effects of guide RNAs on cell survival. A detailed exploration of BAGEL was ommitted here largely because it's installation is more tempermental than the other methods.\n",
        "\n",
        "---\n",
        "**Figure 6: BAGEL2 performs well at distinguishing true essential genes from false positives compared to other methods**\n",
        "\n",
        "![Figure 6: BAGEL2 performs well at distinguishing true essential genes](https://github.com/WCSCourses/CRISPR_Informatics_2024/blob/jb63_screening_module/modules/crispr_screen_analysis/figures/Bagel2.png?raw=1)\n",
        "\n",
        "Taken from: [Kim, E., Hart, T. Improved analysis of CRISPR fitness screens and reduced off-target effects with the BAGEL2 gene essentiality classifier. Genome Med 13, 2 (2021)](https://doi.org/10.1186/s13073-020-00809-3)\n",
        "\n",
        "---\n",
        "\n",
        "\n",
        "Each of these methods (MAGECK, gscreend, BAGEL2 and others) will have different sensitivities and specificities (abilities to distinguish true-positives and true-negatives from false-positives and false-negatives) but they should give broadly the same results. When running this kind of analysis you might want to compare and contrast tools or take a consensus from several of them.\n",
        "\n",
        "\n",
        "## Considerations\n",
        "\n",
        "**What to use as a reference sample?**\n",
        "\n",
        "In this experiment, we used a \"T0\" pre-screen sample derived from a transduced cell population for our comparisons. It has been proposed in several places though that a sample of the plasmid library you plan be used in the transfection might be superior reference. When researchers compared the counts of gRNAs targeting essential genes in plasmid and T0 samples theyfound that essential gene guide counts were already reduced at T0 (Imkeller, K., Ambrosi, G., Boutros, M. et al, 2020). This suggests that gene editing can occur quickly and means that some of the essential gene depletion scores in our screen might be underestimates!\n",
        "\n",
        "\n",
        "**Bottlenecking**\n",
        "\n",
        "The act of splitting and discarding cells is an example of a bottlenecking event. This will reduce diversity in the cell population you are screening and can artificially increase the apparent depletion of rare guides from your experiment (see Figure 7). This would lead to them being spuriously called as essential. Using gscreend as an analysis tool might help mitigate this - but you might also want to think about how often and how severely you passage your cells during a screen.\n",
        "\n",
        "\n",
        "---\n",
        "\n",
        "**Figure 7: Bottlenecking in cell cutlure**\n",
        "\n",
        "![Figure 7](https://github.com/WCSCourses/CRISPR_Informatics_2024/blob/jb63_screening_module/modules/crispr_screen_analysis/figures/bottlenecking.png?raw=1)\n",
        "\n",
        "Taken from [Imkeller, K., Ambrosi, G., Boutros, M. et al. gscreend: modelling asymmetric count ratios in CRISPR screens to decrease experiment size and improve phenotype detection. Genome Biol 21, 53 (2020)](https://genomebiology.biomedcentral.com/articles/10.1186/s13059-020-1939-1).\n",
        "\n",
        "Note how over successive rounds of growth and passaging, the red mutant cells can become artificially over-represented in the population - even in the absence of a fitness effect.\n",
        "\n",
        "---\n",
        "\n",
        "\n",
        "\n",
        "**Copy-number effects**\n",
        "\n",
        "In our analysis we've treated our genes with the implicit assumption that there are equal copies of each gene in the genome. In cancer cells though, genomic instability and copy number alterations are widespread and this assumption might not hold true.\n",
        "\n",
        "Several studies have demonstrated that targeting CRISPR-Cas9 to regions where there are copy number gains will cause multiple DNA double-strand breaks and induce a larger gene-independent DNA-damage response. This causes the cells to enter cell-cycle arrest and the net effect of this is that regions with copy number amplifications are much more likely to deplete and appear as essential in CRISPR knockout screen (see Figure 8).\n",
        "\n",
        "\n",
        "---\n",
        "**Figure 8: The effect of copy number on gene essentiality calculations**\n",
        "\n",
        "![Figure 7: ](https://github.com/WCSCourses/CRISPR_Informatics_2024/blob/jb63_screening_module/modules/crispr_screen_analysis/figures/copy_number_plot.png?raw=1)\n",
        "\n",
        "Taken from: [Aguirre AJ, Meyers RM, Weir BA, et al. Genomic Copy Number Dictates a Gene-Independent Cell Response to CRISPR/Cas9 Targeting. Cancer Discov. 2016;6(8):914-929. doi:10.1158/2159-8290.CD-16-0154](https://www.ncbi.nlm.nih.gov/pmc/articles/PMC4972686)\n",
        "\n",
        "Note how guide scores are negatively correlated with copy number accross the locus.\n",
        "\n",
        "\n",
        "---\n",
        "\n",
        "Several tools have been built to mitigate this effect. MAGECK, for instance has an inbuilt copy-number adjustment tool that controls for copy number alterations. Alternatively, [CRISPRcleanR](https://www.sanger.ac.uk/tool/crisprcleanr/) applies a circular binary segmentation algorithm to identify genomic regions where sgRNA impact is correlated. This algorithm works on the basis that contigous genes should not be equally essential and attributes situations where this phenomenon is observed to being a copy number alteration.\n",
        "\n",
        "\n",
        "---------"
      ],
      "metadata": {
        "id": "FAWZUpBfW3Hz"
      },
      "id": "FAWZUpBfW3Hz"
    },
    {
      "cell_type": "markdown",
      "id": "dc03c58e-2130-46e7-b717-8e81979803d8",
      "metadata": {
        "id": "dc03c58e-2130-46e7-b717-8e81979803d8"
      },
      "source": [
        "## <a name=\"summary\"></a>\n",
        "## Summary <a name=\"Summary\"></a>\n",
        "\n",
        "\n",
        "🎉🎉That's it for today! 🎉🎉\n",
        "\n",
        "\n",
        "In many ways we've only just started and there's lots more to explore. You might want to look at topics like pre-filtering low-count guides out of our dataset; identifying problematic samples using tools like PCA; and performing multi-factorial analysis with tools like MAGECK-MLE. You might just want to find a friendly bioinformatician to lend a hand. Either way - happy screening!\n",
        "\n",
        "As a reminder of what we covered:\n",
        "\n",
        "- Given a CRISPR counts matrix, you can use data wrangling tools like R or python to quickly check that sequencing samples meet your expectations.\n",
        "- You can use tools such as MAGECK, BAGEL2 and gscreend to identify depleted or enriched guides in an experiment.\n",
        "- These tools perform contrasts that compare guide RNA abundances in treatment vs. control samples and then aggregate this data at the gene level\n",
        "- By including positive and negative control genes in your guide RNA library, you can use metrics like NNMD to validate that a screen was successful.\n",
        "- Experimental and genomic factors might confound your experiment - so try to bear these in mind.\n",
        "\n",
        "\n"
      ]
    },
    {
      "cell_type": "markdown",
      "source": [
        "## <a name=\"references\"></a>\n",
        "## References\n",
        "- [Andersson, B. S., Beran, M., Pathak, S., Goodacre, A., Barlogie, B., & McCredie, K. B. (1987). Ph-positive chronic myeloid leukemia with near-haploid conversion in vivo and establishment of a continuously growing cell line with similar cytogenetic pattern. Cancer genetics and cytogenetics, 24(2), 335–343.](https://pubmed.ncbi.nlm.nih.gov/3466682)\n",
        "\n",
        "- [Pacini, C., Dempster, J.M., Boyle, I. et al. Integrated cross-study datasets of genetic dependencies in cancer. Nat Commun 12, 1661 (2021)](https://www.nature.com/articles/s41467-021-21898-7)\n",
        "\n",
        "- [Joshua M. Dempster, Jordan Rossen, Mariya Kazachkova, Joshua Pan, Guillaume Kugener, David E. Root, Aviad Tsherniak. Extracting Biological Insights from the Project Achilles Genome-Scale CRISPR Screens in Cancer Cell Lines](https://www.biorxiv.org/content/10.1101/720243v1)\n",
        "\n",
        "- [Aguirre A.J., Meyers R.M., Weir B.A., et al. Genomic copy number dictates a gene-independent cell response to CRISPR-Cas9 targeting. Cancer Discov June 3 2016](https://pubmed.ncbi.nlm.nih.gov/27260156/)\n",
        "\n",
        "- [Traver Hart and Jason Moffat. BAGEL: a computational framework for identifying essential genes from pooled library screens. BMC Bioinformatics, 2016 vol. 17 p. 164.](https://genomemedicine.biomedcentral.com/articles/10.1186/s13073-020-00809-3)\n",
        "\n",
        "- [Aregger, M., Chandrashekhar, M., Tong, A.H.Y., Chan, K., Moffat, J. (2019). Pooled Lentiviral CRISPR-Cas9 Screens for Functional Genomics in Mammalian Cells. In: Singh, S., Venugopal, C. (eds) Brain Tumor Stem Cells. Methods in Molecular Biology, vol 1869. Humana Press, New York, NY.](https://link.springer.com/protocol/10.1007/978-1-4939-8805-1_15)\n",
        "\n",
        "- [Joung, J., Konermann, S., Gootenberg, J. et al. Genome-scale CRISPR-Cas9 knockout and transcriptional activation screening. Nat Protoc 12, 828–863 (2017).](https://www.nature.com/articles/nprot.2017.016)\n",
        "\n",
        "- [Imkeller, K., Ambrosi, G., Boutros, M. et al. gscreend: modelling asymmetric count ratios in CRISPR screens to decrease experiment size and improve phenotype detection. Genome Biol 21, 53 (2020).](https://genomebiology.biomedcentral.com/articles/10.1186/s13059-020-1939-1)\n",
        "\n",
        "- [Li, W., Xu, H., Xiao, T. et al. MAGeCK enables robust identification of essential genes from genome-scale CRISPR/Cas9 knockout screens](https://genomebiology.biomedcentral.com/articles/10.1186/s13059-014-0554-4)"
      ],
      "metadata": {
        "id": "_bTlrIHjjAWO"
      },
      "id": "_bTlrIHjjAWO"
    }
  ],
  "metadata": {
    "colab": {
      "provenance": [],
      "include_colab_link": true
    },
    "kernelspec": {
      "display_name": "Python 3",
      "name": "python3"
    },
    "language_info": {
      "name": "python"
    }
  },
  "nbformat": 4,
  "nbformat_minor": 5
}