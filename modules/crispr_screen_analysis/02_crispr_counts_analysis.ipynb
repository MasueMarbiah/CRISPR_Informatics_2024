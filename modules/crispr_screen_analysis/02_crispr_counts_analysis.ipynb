{
  "cells": [
    {
      "cell_type": "markdown",
      "metadata": {
        "colab_type": "text",
        "id": "view-in-github"
      },
      "source": [
        "<a href=\"https://colab.research.google.com/github/WCSCourses/CRISPR_Informatics_2024/blob/jb63_screening_module/02_crispr_counts_analysis.ipynb\" target=\"_parent\"><img src=\"https://colab.research.google.com/assets/colab-badge.svg\" alt=\"Open In Colab\"/></a>"
      ]
    },
    {
      "cell_type": "markdown",
      "id": "79526ff3-bd9b-4732-ba7e-75d39b9ea8f7",
      "metadata": {
        "id": "79526ff3-bd9b-4732-ba7e-75d39b9ea8f7"
      },
      "source": [
        "# Processing counts data from a CRISPR screen\n",
        "\n",
        "## Table of contents\n",
        "1. [Introduction and aims](#intro)\n",
        "2. [Step 1: Installing software for our session](#step1)\n",
        "3. [Step 2: Exploring the raw counts dataset](#step2)\n",
        "4. [Step 3: Generating log fold-changes for genes](#step3)\n",
        "5. [Step 4: Screen validatation](#step4)\n",
        "7. [Summary](#summary)\n",
        "8. [References](#references)\n",
        "\n",
        "-----\n",
        "\n",
        "## Introduction and aims\n",
        "Thee aim of this practical class is to introduce you to some of the concepts involved in the analysis of a pooled CRISPR screen. Will we take a set of pre-generated CRISPR counts data and use tools like R and MAGECK to explore the dataset. Next, we will identify essential genes in a cell line and introduce some of the tools for investigating CRISPR sequencing datasets.\n",
        "\n",
        "\n",
        "As you covered earlier in the day, CRISPR screens are a powerful functional genomics method that can help us to identify genetic interactions. Since it is so adaptable, the CRISPR-Cas9 system can be configured to\n",
        "\n",
        "At Wellcome Trust Sanger Institute, we participate in the large scale CRISPR screening of cancer cell lines for initiatives such as [DepMap](https://depmap.sanger.ac.uk/documentation/datasets/wg-crispr-knockout/) to better understand the genetic dependencies of cancer. THis  \n",
        "\n",
        "![Figure 1. Project score ](figures/project_score.png)\n",
        "\n",
        "\n",
        "HAP1 cell line a near-haploid human cell line [HAP1 paper](https://www.ncbi.nlm.nih.gov/pmc/articles/PMC10020200/#B2). Popular model for gene editing experiments avoid some of the the challenges associated with editing diploid - mixed penetrance of genome editing.\n",
        "\n",
        "![Figure 2. HAP1 karyotype](\"figures/HAP1_cell_karyotype.png\")\n",
        "\n",
        "\n",
        "Screen involves is a simple experiment just 4 samples: T0 is a pre-screen sample - generated from material where CRISPR-Cas9 cutting has not occured yet - and T18 A, B and C are replicates collected 18 days after the screen began.\n",
        "\n",
        "\n",
        "\n",
        "![Figure 3. Screen demo](\"figures/)\n",
        "\n",
        "\n",
        "\n"
      ]
    },
    {
      "cell_type": "markdown",
      "id": "109164f7",
      "metadata": {
        "id": "109164f7"
      },
      "source": [
        "## Step 1: Installing software for our session\n",
        "\n",
        "In order to install some of the tools we will be using in the session, we'll first have to add condacolab. Condacolab lets us manage software packgewithin a google colab session."
      ]
    },
    {
      "cell_type": "code",
      "execution_count": 2,
      "id": "gyPjFKWJv1mv",
      "metadata": {
        "colab": {
          "base_uri": "https://localhost:8080/"
        },
        "id": "gyPjFKWJv1mv",
        "outputId": "b8952bd4-3b22-4ab1-9bbe-935670d94e3f"
      },
      "outputs": [
        {
          "name": "stdout",
          "output_type": "stream",
          "text": [
            "⏬ Downloading https://github.com/conda-forge/miniforge/releases/download/23.11.0-0/Mambaforge-23.11.0-0-Linux-x86_64.sh...\n",
            "📦 Installing...\n",
            "📌 Adjusting configuration...\n",
            "🩹 Patching environment...\n",
            "⏲ Done in 0:00:12\n",
            "🔁 Restarting kernel...\n"
          ]
        }
      ],
      "source": [
        "!pip install -q condacolab\n",
        "import condacolab\n",
        "condacolab.install()"
      ]
    },
    {
      "cell_type": "markdown",
      "id": "QmsfAa0PDwqG",
      "metadata": {
        "id": "QmsfAa0PDwqG"
      },
      "source": [
        "After this, we'll load an extension for the collab notebook that lets us execute R code within collab notebook cells."
      ]
    },
    {
      "cell_type": "code",
      "execution_count": 2,
      "id": "tbUbWekNwA_D",
      "metadata": {
        "id": "tbUbWekNwA_D"
      },
      "outputs": [],
      "source": [
        "%load_ext rpy2.ipython"
      ]
    },
    {
      "cell_type": "markdown",
      "id": "VT0MrrqVN9VU",
      "metadata": {
        "id": "VT0MrrqVN9VU"
      },
      "source": [
        "Now, any cells that contain the `%%R` tag at the start will be executed within an R environment.\n",
        "\n",
        "** Note: any lines of code that contain an `!` at the start will be executed in bash (the default scripting language in a terminal).\n",
        "\n",
        "We'll start by loading a couple of R dependencies into the collab session. For those newer to R, this notebook loads the `tidyverse` meta package: a set of tools that extend \"base\" R to make data-wrangling and exploration more enjoyable. The code also makes use of the `|>` pipe functionality in R, which simplifies multi-step data manipulation.  \n",
        "\n",
        "*Note: Some of you might recognise `|>`'s progenitor – `%>%` – which was prevalent in older versions of R.*"
      ]
    },
    {
      "cell_type": "code",
      "execution_count": 14,
      "id": "0WBpOreTs0uY",
      "metadata": {
        "colab": {
          "base_uri": "https://localhost:8080/"
        },
        "id": "0WBpOreTs0uY",
        "outputId": "2c10b6d9-37b0-46cb-c9db-a50258b78424"
      },
      "outputs": [
        {
          "name": "stderr",
          "output_type": "stream",
          "text": [
            "R[write to console]: Installing package into ‘/usr/local/lib/R/site-library’\n",
            "(as ‘lib’ is unspecified)\n",
            "\n",
            "R[write to console]: trying URL 'https://cran.rstudio.com/src/contrib/ggrepel_0.9.6.tar.gz'\n",
            "\n",
            "R[write to console]: Content type 'application/x-gzip'\n",
            "R[write to console]:  length 149970 bytes (146 KB)\n",
            "\n",
            "R[write to console]: =\n",
            "R[write to console]: =\n",
            "R[write to console]: =\n",
            "R[write to console]: =\n",
            "R[write to console]: =\n",
            "R[write to console]: =\n",
            "R[write to console]: =\n",
            "R[write to console]: =\n",
            "R[write to console]: =\n",
            "R[write to console]: =\n",
            "R[write to console]: =\n",
            "R[write to console]: =\n",
            "R[write to console]: =\n",
            "R[write to console]: =\n",
            "R[write to console]: =\n",
            "R[write to console]: =\n",
            "R[write to console]: =\n",
            "R[write to console]: =\n",
            "R[write to console]: =\n",
            "R[write to console]: =\n",
            "R[write to console]: =\n",
            "R[write to console]: =\n",
            "R[write to console]: =\n",
            "R[write to console]: =\n",
            "R[write to console]: =\n",
            "R[write to console]: =\n",
            "R[write to console]: =\n",
            "R[write to console]: =\n",
            "R[write to console]: =\n",
            "R[write to console]: =\n",
            "R[write to console]: =\n",
            "R[write to console]: =\n",
            "R[write to console]: =\n",
            "R[write to console]: =\n",
            "R[write to console]: =\n",
            "R[write to console]: =\n",
            "R[write to console]: =\n",
            "R[write to console]: =\n",
            "R[write to console]: =\n",
            "R[write to console]: =\n",
            "R[write to console]: =\n",
            "R[write to console]: =\n",
            "R[write to console]: =\n",
            "R[write to console]: =\n",
            "R[write to console]: =\n",
            "R[write to console]: =\n",
            "R[write to console]: =\n",
            "R[write to console]: =\n",
            "R[write to console]: =\n",
            "R[write to console]: =\n",
            "R[write to console]: \n",
            "\n",
            "R[write to console]: downloaded 146 KB\n",
            "\n",
            "\n",
            "R[write to console]: \n",
            "\n",
            "R[write to console]: \n",
            "R[write to console]: The downloaded source packages are in\n",
            "\t‘/tmp/RtmpekqLia/downloaded_packages’\n",
            "R[write to console]: \n",
            "R[write to console]: \n",
            "\n"
          ]
        }
      ],
      "source": [
        "%%R\n",
        "# Load our dependencies\n",
        "install.packages(\"ggrepel\")\n",
        "library(tidyverse)\n",
        "library(ggrepel)"
      ]
    },
    {
      "cell_type": "markdown",
      "id": "0e93acbe",
      "metadata": {
        "id": "0e93acbe"
      },
      "source": [
        "-------\n",
        "## Step 2: Exploring the raw counts dataset\n",
        "\n",
        "Let's start by reading the counts file we'll be looking at input R. We'll display the dataframe that this produces:\n"
      ]
    },
    {
      "cell_type": "code",
      "execution_count": 5,
      "id": "1ozMoACLs6Kb",
      "metadata": {
        "colab": {
          "base_uri": "https://localhost:8080/"
        },
        "id": "1ozMoACLs6Kb",
        "outputId": "a8b73d2f-f7af-4c0a-e060-543a37126f4f"
      },
      "outputs": [
        {
          "name": "stdout",
          "output_type": "stream",
          "text": [
            "Rows: 71090 Columns: 6\n",
            "── Column specification ────────────────────────────────────────────────────────\n",
            "Delimiter: \"\\t\"\n",
            "chr (2): SEQUENCE, GENE\n",
            "dbl (4): HAP1_T0, HAP1_T18A, HAP1_T18B, HAP1_T18C\n",
            "\n",
            "ℹ Use `spec()` to retrieve the full column specification for this data.\n",
            "ℹ Specify the column types or set `show_col_types = FALSE` to quiet this message.\n",
            "# A tibble: 71,090 × 6\n",
            "   SEQUENCE             GENE  HAP1_T0 HAP1_T18A HAP1_T18B HAP1_T18C\n",
            "   <chr>                <chr>   <dbl>     <dbl>     <dbl>     <dbl>\n",
            " 1 ACTGGCGCCATCGAGAGCCA A1BG      239       245       230        62\n",
            " 2 CAAGAGAAAGACCACGAGCA A1BG     1647       415       313       394\n",
            " 3 GCTCAGCTGGGTCCATCCTG A1BG     1480       492       388       415\n",
            " 4 GTCGAGCTGATTCTGAGCGA A1BG      888       387       297       202\n",
            " 5 AGTTATGTTAGGTATACCCG A1CF      266       176       327       328\n",
            " 6 ATGACTCTCATACTCCACGA A1CF      294       183       254       131\n",
            " 7 GGTGCAGCATCCCAACCAGG A1CF      307       314       143       186\n",
            " 8 TGCGCTGGACCAGTGCGCGG A1CF      619       226        84        77\n",
            " 9 AAGGTTCTAATTCAGAGGCA A2ML1     570       418       487       582\n",
            "10 ATAGGGCCAACATTCCTAGA A2ML1     459       571       548       359\n",
            "# ℹ 71,080 more rows\n",
            "# ℹ Use `print(n = ...)` to see more rows\n"
          ]
        }
      ],
      "source": [
        "%%R\n",
        "input_file <- read_tsv(\"reads_hap1.txt\")\n",
        "input_file"
      ]
    },
    {
      "cell_type": "markdown",
      "id": "A9nxec8ARofY",
      "metadata": {
        "id": "A9nxec8ARofY"
      },
      "source": [
        "\n",
        "This dataframe has several columns, one representing the CRISPR guide sequences we used in the screen, one representing the genes that they target and several representing samples in the experiment (`HAP1_T0`, `HAP1_T18A` etc.)\n",
        "\n",
        "The `HAP1` in these sample names reflects the cell line we screened in the experiment and the T<X> reflects the timepoint the sample was collected at. This a simple experiment with just 4 samples: T0 is a pre-screen sample - generated from material where CRISPR-Cas9 cutting has not occured yet - and T18 A, B and C are replicates collected 18 days after the screen began.\n",
        "\n",
        "--------\n",
        "### Questions\n",
        "One thing you might notices about the dataframe is that there are multiple guides sequences per gene.\n",
        "- Why do you think this might be?\n",
        "\n",
        "In some cases the sequences you can see above have counts that can vary quite widely between the T18 A, B and C replicates.\n",
        "\n",
        "- Can you think of any explanations for this variability?\n",
        "\n",
        "\n",
        "-------\n",
        "[**Back to top**](#top)\n",
        "\n",
        "## Reformating our data\n",
        "\n",
        "The dataframe we've created has several columns represnting guide RNA counts. For downstream analysis in R it can often be helpful to \"wrangle\" data into a [tidy format](https://r4ds.had.co.nz/tidy-data.html). We'll do that here by collapsing all of our HAP1 columns into one with a command called a pivot.\n"
      ]
    },
    {
      "cell_type": "code",
      "execution_count": null,
      "id": "nNX2Am1bNsCj",
      "metadata": {
        "id": "nNX2Am1bNsCj"
      },
      "outputs": [],
      "source": [
        "guide_counts <- input_file |>\n",
        "pivot_longer(cols = contains(\"HAP1\"),\n",
        "                             values_to = \"counts\",\n",
        "                             names_to = \"sample\")"
      ]
    },
    {
      "cell_type": "markdown",
      "id": "scRUvOP4VQnJ",
      "metadata": {
        "id": "scRUvOP4VQnJ"
      },
      "source": [
        "We can glance at the first few lines of our refomatted dataset (which will be easier to explore in R) with:"
      ]
    },
    {
      "cell_type": "code",
      "execution_count": 8,
      "id": "IDaXAetJVNJt",
      "metadata": {
        "colab": {
          "base_uri": "https://localhost:8080/"
        },
        "id": "IDaXAetJVNJt",
        "outputId": "22a43d21-8814-482a-c64e-edda4e964047"
      },
      "outputs": [
        {
          "name": "stdout",
          "output_type": "stream",
          "text": [
            "# A tibble: 6 × 4\n",
            "  SEQUENCE             GENE  sample    counts\n",
            "  <chr>                <chr> <chr>      <dbl>\n",
            "1 ACTGGCGCCATCGAGAGCCA A1BG  HAP1_T0      239\n",
            "2 ACTGGCGCCATCGAGAGCCA A1BG  HAP1_T18A    245\n",
            "3 ACTGGCGCCATCGAGAGCCA A1BG  HAP1_T18B    230\n",
            "4 ACTGGCGCCATCGAGAGCCA A1BG  HAP1_T18C     62\n",
            "5 CAAGAGAAAGACCACGAGCA A1BG  HAP1_T0     1647\n",
            "6 CAAGAGAAAGACCACGAGCA A1BG  HAP1_T18A    415\n"
          ]
        }
      ],
      "source": [
        "%%R\n",
        "head(guide_counts)"
      ]
    },
    {
      "cell_type": "markdown",
      "id": "2bcd08ce",
      "metadata": {
        "id": "2bcd08ce"
      },
      "source": [
        "Now that CRISPR counts data like this data frame, I'd recommend visualise it so that you can better understand whether the samples meets you expectations.\n",
        "\n",
        "For a typical genome wide CRISPR screen, would hope that all of the guides seqeunces are observed in our sample (with counts >0) and that there is sufficient coverage for each guide in the library for us to perform statistical tests in downstream tools like MAGECK. Let's check this now:"
      ]
    },
    {
      "cell_type": "code",
      "execution_count": 11,
      "id": "8f2ea960-dd93-4310-8455-c6d402a4aa31",
      "metadata": {
        "colab": {
          "base_uri": "https://localhost:8080/",
          "height": 497
        },
        "id": "8f2ea960-dd93-4310-8455-c6d402a4aa31",
        "outputId": "1ed66b39-0b87-47cb-9c40-c04d10869e87"
      },
      "outputs": [
        {
          "data": {
            "image/png": "[encoded data removed]"
          },
          "metadata": {},
          "output_type": "display_data"
        }
      ],
      "source": [
        "%%R\n",
        "# You can represent this dataset condensed way with a boxplot - highlighting the mean, IQR\n",
        "# range of guide counts in the dataset and any guides with extremely high or low counts.\n",
        "ggplot(guide_counts, aes(y=log2(counts+1))) +\n",
        "geom_boxplot(aes(fill = sample))"
      ]
    },
    {
      "cell_type": "code",
      "execution_count": 14,
      "id": "FqG7Qm9rVqnL",
      "metadata": {
        "colab": {
          "base_uri": "https://localhost:8080/",
          "height": 497
        },
        "id": "FqG7Qm9rVqnL",
        "outputId": "4c390f93-7b98-4955-b9e9-f5988b3c6449"
      },
      "outputs": [
        {
          "data": {
            "image/png": "[encoded data removed]"
          },
          "metadata": {},
          "output_type": "display_data"
        }
      ],
      "source": [
        "%%R\n",
        "# Alternatively plot the distribution of counts across the different guides in the screen\n",
        "ggplot(guide_counts, aes(x=log2(counts+1))) +\n",
        "geom_density(aes(fill = sample), alpha = 0.4)"
      ]
    },
    {
      "cell_type": "markdown",
      "id": "d41c4ff1",
      "metadata": {
        "id": "d41c4ff1"
      },
      "source": []
    },
    {
      "cell_type": "markdown",
      "id": "jjawVyhUbqUb",
      "metadata": {
        "id": "jjawVyhUbqUb"
      },
      "source": [
        "### Questions\n",
        "1. Counts QC\n",
        "- What do you estimate is the mean number of counts per guide RNA in our samples?\n",
        "- How many counts-per-guide do you think would be sufficient for us to perform a CRISPR knockout screen?\n",
        "\n",
        "2. Sample QC\n",
        "\t- How might you identify poor-quality or outlier samples in a dataset like this? Are you aware of any techniques for this?\n",
        "\n",
        "---\n",
        "[↥ **Back to top**](#top)\n"
      ]
    },
    {
      "cell_type": "markdown",
      "id": "b04081f6-d737-436e-96a7-2ab0244cf2a1",
      "metadata": {
        "id": "b04081f6-d737-436e-96a7-2ab0244cf2a1"
      },
      "source": [
        "\n",
        "------\n",
        "## Step 3: Generating log fold-changes for genes\n",
        "\n",
        "Since our data looks of suitable quality for downstream processing, we will now try to find out which genes in the HAP1 cell-line depends on for it's survival by looking for  over the course of the experiemnt.\n",
        "\n",
        "To do this we will use [MAGECK](https://genomebiology.biomedcentral.com/articles/10.1186/s13059-014-0554-4) a popular tool for CRISPR counts analysis that uses a negative binomial (NB) model to identify significantly depleted\n",
        "\n",
        "In brief, MAGECK is going to\n",
        "- Median normalise the dataset (to account for differnces in sequencing depth)\n",
        "- Model the mean-variance trend in the dataset (to better handle guides with different mean counts)\n",
        "- Perform statistical testing and appropriate corrections (to identify significantly altered guides)\n",
        "\n",
        "This will give us p-values and log2fold changes for individual **guides** in the dataset.\n",
        "\n",
        "\n",
        "We can start by installing MAGECK through conda. To avoid a long message about the installation process the cell below has had it's output silenced by redirecting it to a \"black-hole\" in the computer.\n",
        "\n",
        "\n"
      ]
    },
    {
      "cell_type": "code",
      "execution_count": 16,
      "id": "5caabef0-84ce-4177-bc38-0c3aa1deeaa7",
      "metadata": {
        "id": "5caabef0-84ce-4177-bc38-0c3aa1deeaa7"
      },
      "outputs": [],
      "source": [
        "!conda install bioconda::mageck &> /dev/null"
      ]
    },
    {
      "cell_type": "markdown",
      "id": "FID4FOK2oj-b",
      "metadata": {
        "id": "FID4FOK2oj-b"
      },
      "source": [
        "Once the above installation has finished we should be able to check that MAGECK is installed and look at the tool's options using a `-h` flag\n"
      ]
    },
    {
      "cell_type": "code",
      "execution_count": 17,
      "id": "k0-ehxTQWtwO",
      "metadata": {
        "colab": {
          "base_uri": "https://localhost:8080/"
        },
        "id": "k0-ehxTQWtwO",
        "outputId": "d875cefd-b725-4707-b3cc-757bc1953a98"
      },
      "outputs": [
        {
          "name": "stdout",
          "output_type": "stream",
          "text": [
            "usage: mageck test [-h] -k COUNT_TABLE (-t TREATMENT_ID | --day0-label DAY0_LABEL) [-c CONTROL_ID]\n",
            "                   [--paired] [--norm-method {none,median,total,control}]\n",
            "                   [--gene-test-fdr-threshold GENE_TEST_FDR_THRESHOLD]\n",
            "                   [--adjust-method {fdr,holm,pounds}]\n",
            "                   [--variance-estimation-samples VARIANCE_ESTIMATION_SAMPLES]\n",
            "                   [--sort-criteria {neg,pos}] [--remove-zero {none,control,treatment,both,any}]\n",
            "                   [--remove-zero-threshold REMOVE_ZERO_THRESHOLD] [--pdf-report]\n",
            "                   [--gene-lfc-method {median,alphamedian,mean,alphamean,secondbest}]\n",
            "                   [-n OUTPUT_PREFIX]\n",
            "                   [--control-sgrna CONTROL_SGRNA | --control-gene CONTROL_GENE]\n",
            "                   [--normcounts-to-file] [--skip-gene SKIP_GENE] [--keep-tmp]\n",
            "                   [--additional-rra-parameters ADDITIONAL_RRA_PARAMETERS] [--cnv-norm CNV_NORM]\n",
            "                   [--cell-line CELL_LINE] [--cnv-est CNV_EST]\n",
            "\n",
            "options:\n",
            "  -h, --help            show this help message and exit\n",
            "\n",
            "Required arguments:\n",
            "\n",
            "  -k COUNT_TABLE, --count-table COUNT_TABLE\n",
            "                        Provide a tab-separated count table instead of sam files. Each line in the\n",
            "                        table should include sgRNA name (1st column), gene name (2nd column) and\n",
            "                        read counts in each sample.\n",
            "  -t TREATMENT_ID, --treatment-id TREATMENT_ID\n",
            "                        Sample label or sample index (0 as the first sample) in the count table as\n",
            "                        treatment experiments, separated by comma (,). If sample label is\n",
            "                        provided, the labels must match the labels in the first line of the count\n",
            "                        table; for example, \"HL60.final,KBM7.final\". For sample index, \"0,2\" means\n",
            "                        the 1st and 3rd samples are treatment experiments.\n",
            "  --day0-label DAY0_LABEL\n",
            "                        Specify the label for control sample (usually day 0 or plasmid). For every\n",
            "                        other sample label, the module will treat it as a treatment condition and\n",
            "                        compare with control sample.\n",
            "\n",
            "Optional general arguments:\n",
            "\n",
            "  -c CONTROL_ID, --control-id CONTROL_ID\n",
            "                        Sample label or sample index in the count table as control experiments,\n",
            "                        separated by comma (,). Default is all the samples not specified in\n",
            "                        treatment experiments.\n",
            "  --paired              Paired sample comparisons. In this mode, the number of samples in -t and\n",
            "                        -c must match and have an exactly the same order in terms of samples. For\n",
            "                        example, \"-t treatment_r1,treatment_r2 -c control_r1,control_r2\".\n",
            "  --norm-method {none,median,total,control}\n",
            "                        Method for normalization, including \"none\" (no normalization), \"median\"\n",
            "                        (median normalization, default), \"total\" (normalization by total read\n",
            "                        counts), \"control\" (normalization by control sgRNAs specified by the\n",
            "                        --control-sgrna option).\n",
            "  --gene-test-fdr-threshold GENE_TEST_FDR_THRESHOLD\n",
            "                        p value threshold to determine the alpha value of RRA in gene test (-p\n",
            "                        option in RRA), default 0.25.\n",
            "  --adjust-method {fdr,holm,pounds}\n",
            "                        Method for sgrna-level p-value adjustment, including false discovery rate\n",
            "                        (fdr), holm's method (holm), or pounds's method (pounds).\n",
            "  --variance-estimation-samples VARIANCE_ESTIMATION_SAMPLES\n",
            "                        Sample label or sample index for estimating variances, separated by comma\n",
            "                        (,). See -t/--treatment-id option for specifying samples.\n",
            "  --sort-criteria {neg,pos}\n",
            "                        Sorting criteria, either by negative selection (neg) or positive selection\n",
            "                        (pos). Default negative selection.\n",
            "  --remove-zero {none,control,treatment,both,any}\n",
            "                        Remove sgRNAs whose mean value is zero in control, treatment, both\n",
            "                        control/treatment, or any control/treatment sample. Default: both (remove\n",
            "                        those sgRNAs that are zero in both control and treatment samples).\n",
            "  --remove-zero-threshold REMOVE_ZERO_THRESHOLD\n",
            "                        sgRNA normalized count threshold to be considered removed in the --remove-\n",
            "                        zero option. Default 0.\n",
            "  --pdf-report          Generate pdf report of the analysis.\n",
            "  --gene-lfc-method {median,alphamedian,mean,alphamean,secondbest}\n",
            "                        Method to calculate gene log2 fold changes (LFC) from sgRNA LFCs.\n",
            "                        Available methods include the median/mean of all sgRNAs (median/mean), or\n",
            "                        the median/mean sgRNAs that are ranked in front of the alpha cutoff in RRA\n",
            "                        (alphamedian/alphamean), or the sgRNA that has the second strongest LFC\n",
            "                        (secondbest). In the alphamedian/alphamean case, the number of sgRNAs\n",
            "                        correspond to the \"goodsgrna\" column in the output, and the gene LFC will\n",
            "                        be set to 0 if no sgRNA is in front of the alpha cutoff. Default median.\n",
            "\n",
            "Optional arguments for input and output:\n",
            "\n",
            "  -n OUTPUT_PREFIX, --output-prefix OUTPUT_PREFIX\n",
            "                        The prefix of the output file(s). Default sample1.\n",
            "  --control-sgrna CONTROL_SGRNA\n",
            "                        A list of control sgRNAs for normalization and for generating the null\n",
            "                        distribution of RRA.\n",
            "  --control-gene CONTROL_GENE\n",
            "                        A list of genes whose sgRNAs are used as control sgRNAs for normalization\n",
            "                        and for generating the null distribution of RRA.\n",
            "  --normcounts-to-file  Write normalized read counts to file ([output-prefix].normalized.txt).\n",
            "  --skip-gene SKIP_GENE\n",
            "                        Skip genes in the report. By default, \"NA\" or \"na\" will be skipped.\n",
            "  --keep-tmp            Keep intermediate files.\n",
            "  --additional-rra-parameters ADDITIONAL_RRA_PARAMETERS\n",
            "                        Additional arguments to run RRA. They will be appended to the command line\n",
            "                        for calling RRA.\n",
            "\n",
            "Optional arguments for CNV correction:\n",
            "\n",
            "  --cnv-norm CNV_NORM   A matrix of copy number variation data across cell lines to normalize CNV-\n",
            "                        biased sgRNA scores prior to gene ranking.\n",
            "  --cell-line CELL_LINE\n",
            "                        The name of the cell line to be used for copy number variation\n",
            "                        normalization. Must match one of the column names in the file provided by\n",
            "                        --cnv-norm.\n",
            "  --cnv-est CNV_EST     Estimate CNV profiles from screening data. A BED file with gene positions\n",
            "                        are required as input. The CNVs of these genes are to be estimated and\n",
            "                        used for copy number bias correction.\n"
          ]
        }
      ],
      "source": [
        "!mageck -h"
      ]
    },
    {
      "cell_type": "markdown",
      "id": "dRQgJNeGpHGn",
      "metadata": {
        "id": "dRQgJNeGpHGn"
      },
      "source": [
        "Now we are ready to run MAGECK."
      ]
    },
    {
      "cell_type": "code",
      "execution_count": 23,
      "id": "gccwLS6MV6Uk",
      "metadata": {
        "colab": {
          "base_uri": "https://localhost:8080/"
        },
        "id": "gccwLS6MV6Uk",
        "outputId": "ee0859fc-f9bd-4b03-87f6-7fd2ae10910e"
      },
      "outputs": [
        {
          "name": "stdout",
          "output_type": "stream",
          "text": [
            "INFO  @ Tue, 10 Sep 2024 09:59:31: Parameters: /usr/local/bin/mageck test -k reads_hap1.txt -c 0 -t 1,2,3 -n all_vs_control --normcounts-to-file \n",
            "INFO  @ Tue, 10 Sep 2024 09:59:31: Welcome to MAGeCK v0.5.9.5. Command: test \n",
            "INFO  @ Tue, 10 Sep 2024 09:59:31: Loading count table from reads_hap1.txt  \n",
            "INFO  @ Tue, 10 Sep 2024 09:59:31: Processing 1 lines.. \n",
            "INFO  @ Tue, 10 Sep 2024 09:59:32: Loaded 71090 records. \n",
            "INFO  @ Tue, 10 Sep 2024 09:59:32: Loading Rnw template file: /usr/local/lib/python3.10/site-packages/mageck/test_report.Rmd. \n",
            "INFO  @ Tue, 10 Sep 2024 09:59:32: Loading R template file: /usr/local/lib/python3.10/site-packages/mageck/plot_template.RTemplate. \n",
            "INFO  @ Tue, 10 Sep 2024 09:59:32: Loading R template file: /usr/local/lib/python3.10/site-packages/mageck/plot_template_indvgene.RTemplate. \n",
            "INFO  @ Tue, 10 Sep 2024 09:59:32: Loading Rnw template file: /usr/local/lib/python3.10/site-packages/mageck/plot_template.Rnw. \n",
            "INFO  @ Tue, 10 Sep 2024 09:59:32: Treatment samples:1,2,3 \n",
            "INFO  @ Tue, 10 Sep 2024 09:59:32: Treatment sample index:1,2,3 \n",
            "INFO  @ Tue, 10 Sep 2024 09:59:32: Control samples:0 \n",
            "INFO  @ Tue, 10 Sep 2024 09:59:32: Control sample index:0 \n",
            "INFO  @ Tue, 10 Sep 2024 09:59:32: Final size factor: 0.5829298917460782 1.1631143907186396 1.1725452185510892 1.2595760552947013 \n",
            "INFO  @ Tue, 10 Sep 2024 09:59:33: Writing normalized read counts to all_vs_control.normalized.txt \n",
            "INFO  @ Tue, 10 Sep 2024 09:59:34: Detecting outliers from variance estimation.. Avg read count:[409.24424812564234], Var: [62119.701199782765] \n",
            "INFO  @ Tue, 10 Sep 2024 09:59:34: Skipping 166 sgRNAs from variance calculation because of their extreme high counts (> 4* STD (mean counts) ). \n",
            "INFO  @ Tue, 10 Sep 2024 09:59:35: Raw variance calculation: 0.0 for control, 1.0 for treatment \n",
            "INFO  @ Tue, 10 Sep 2024 09:59:35: Before RRA, 336 sgRNAs are removed with zero counts in both group(s). \n",
            "INFO  @ Tue, 10 Sep 2024 09:59:35: Use qnorm to reversely calculate sgRNA scores ... \n",
            "INFO  @ Tue, 10 Sep 2024 09:59:39: Running command: RRA -i all_vs_control.plow.txt -o all_vs_control.gene.low.txt -p 0.3163778726291093 --skip-gene NA --skip-gene na  \n",
            "INFO  @ Tue, 10 Sep 2024 10:00:28: Command message: \n",
            "INFO  @ Tue, 10 Sep 2024 10:00:28:   Welcome to RRA v 0.5.9. \n",
            "INFO  @ Tue, 10 Sep 2024 10:00:28:   Skipping gene NA for permutation ... \n",
            "INFO  @ Tue, 10 Sep 2024 10:00:28:   Skipping gene na for permutation ... \n",
            "INFO  @ Tue, 10 Sep 2024 10:00:28:   Reading input file... \n",
            "INFO  @ Tue, 10 Sep 2024 10:00:28:   Summary: 70754 sgRNAs, 18056 genes, 1 lists; skipped sgRNAs:0 \n",
            "INFO  @ Tue, 10 Sep 2024 10:00:28:   Computing lo-values for each group... \n",
            "INFO  @ Tue, 10 Sep 2024 10:00:28:   Computing false discovery rate... \n",
            "INFO  @ Tue, 10 Sep 2024 10:00:28:   Permuting genes with 1 sgRNAs... \n",
            "INFO  @ Tue, 10 Sep 2024 10:00:28:   Permuting genes with 2 sgRNAs... \n",
            "INFO  @ Tue, 10 Sep 2024 10:00:28:   Permuting genes with 3 sgRNAs... \n",
            "INFO  @ Tue, 10 Sep 2024 10:00:28:   Permuting genes with 4 sgRNAs... \n",
            "INFO  @ Tue, 10 Sep 2024 10:00:28:   Permuting genes with 22 sgRNAs... \n",
            "INFO  @ Tue, 10 Sep 2024 10:00:28:   Permuting genes with 24 sgRNAs... \n",
            "INFO  @ Tue, 10 Sep 2024 10:00:28:   Permuting genes with 94 sgRNAs... \n",
            "INFO  @ Tue, 10 Sep 2024 10:00:28:   Number of genes under FDR adjustment: 18056 \n",
            "INFO  @ Tue, 10 Sep 2024 10:00:28:   Saving to output file... \n",
            "INFO  @ Tue, 10 Sep 2024 10:00:28:   RRA completed. \n",
            "INFO  @ Tue, 10 Sep 2024 10:00:28:   Groups deletion complete. \n",
            "INFO  @ Tue, 10 Sep 2024 10:00:28:   Lists deletion complete. \n",
            "INFO  @ Tue, 10 Sep 2024 10:00:28:    \n",
            "INFO  @ Tue, 10 Sep 2024 10:00:28: End command message. \n",
            "INFO  @ Tue, 10 Sep 2024 10:00:28: Running command: RRA -i all_vs_control.phigh.txt -o all_vs_control.gene.high.txt -p 0.32302060660881365 --skip-gene NA --skip-gene na  \n",
            "INFO  @ Tue, 10 Sep 2024 10:01:19: Command message: \n",
            "INFO  @ Tue, 10 Sep 2024 10:01:19:   Welcome to RRA v 0.5.9. \n",
            "INFO  @ Tue, 10 Sep 2024 10:01:19:   Skipping gene NA for permutation ... \n",
            "INFO  @ Tue, 10 Sep 2024 10:01:19:   Skipping gene na for permutation ... \n",
            "INFO  @ Tue, 10 Sep 2024 10:01:19:   Reading input file... \n",
            "INFO  @ Tue, 10 Sep 2024 10:01:19:   Summary: 70754 sgRNAs, 18056 genes, 1 lists; skipped sgRNAs:0 \n",
            "INFO  @ Tue, 10 Sep 2024 10:01:19:   Computing lo-values for each group... \n",
            "INFO  @ Tue, 10 Sep 2024 10:01:19:   Computing false discovery rate... \n",
            "INFO  @ Tue, 10 Sep 2024 10:01:19:   Permuting genes with 1 sgRNAs... \n",
            "INFO  @ Tue, 10 Sep 2024 10:01:19:   Permuting genes with 2 sgRNAs... \n",
            "INFO  @ Tue, 10 Sep 2024 10:01:19:   Permuting genes with 3 sgRNAs... \n",
            "INFO  @ Tue, 10 Sep 2024 10:01:19:   Permuting genes with 4 sgRNAs... \n",
            "INFO  @ Tue, 10 Sep 2024 10:01:19:   Permuting genes with 22 sgRNAs... \n",
            "INFO  @ Tue, 10 Sep 2024 10:01:19:   Permuting genes with 24 sgRNAs... \n",
            "INFO  @ Tue, 10 Sep 2024 10:01:19:   Permuting genes with 94 sgRNAs... \n",
            "INFO  @ Tue, 10 Sep 2024 10:01:19:   Number of genes under FDR adjustment: 18056 \n",
            "INFO  @ Tue, 10 Sep 2024 10:01:19:   Saving to output file... \n",
            "INFO  @ Tue, 10 Sep 2024 10:01:19:   RRA completed. \n",
            "INFO  @ Tue, 10 Sep 2024 10:01:19:   Groups deletion complete. \n",
            "INFO  @ Tue, 10 Sep 2024 10:01:19:   Lists deletion complete. \n",
            "INFO  @ Tue, 10 Sep 2024 10:01:19:    \n",
            "INFO  @ Tue, 10 Sep 2024 10:01:19: End command message. \n",
            "INFO  @ Tue, 10 Sep 2024 10:01:19: Loading top 10 genes from all_vs_control.gene.low.txt: POLR2L,EIF3A,GTPBP10,PES1,MRPL53,TCEB2,MTG2,CHORDC1,RPSA,POLR3H \n",
            "INFO  @ Tue, 10 Sep 2024 10:01:19: Loading top 10 genes from all_vs_control.gene.high.txt: TSC2,TSC1,LacZ,DOT1L,DBF4,KCTD5,DEPDC5,OR52E4,CSK,IPCEF1 \n",
            "INFO  @ Tue, 10 Sep 2024 10:01:20: Running command: rm all_vs_control.plow.txt \n",
            "INFO  @ Tue, 10 Sep 2024 10:01:20: Running command: rm all_vs_control.phigh.txt \n",
            "INFO  @ Tue, 10 Sep 2024 10:01:20: Running command: rm all_vs_control.gene.low.txt \n",
            "INFO  @ Tue, 10 Sep 2024 10:01:20: Running command: rm all_vs_control.gene.high.txt \n"
          ]
        }
      ],
      "source": [
        "!mageck test -k reads_hap1.txt -c 0 -t 1,2,3 -n all_vs_control --normcounts-to-file\n"
      ]
    },
    {
      "cell_type": "code",
      "execution_count": 31,
      "id": "jhwsjU-4XQcS",
      "metadata": {
        "colab": {
          "base_uri": "https://localhost:8080/"
        },
        "id": "jhwsjU-4XQcS",
        "outputId": "20e722cd-c9e3-44bc-bcf6-dd28292575d4"
      },
      "outputs": [
        {
          "name": "stdout",
          "output_type": "stream",
          "text": [
            "Rows: 927 Columns: 3\n",
            "── Column specification ────────────────────────────────────────────────────────\n",
            "Delimiter: \"\\t\"\n",
            "chr (2): GENE, HGNC_ID\n",
            "dbl (1): ENTREZ_ID\n",
            "\n",
            "ℹ Use `spec()` to retrieve the full column specification for this data.\n",
            "ℹ Specify the column types or set `show_col_types = FALSE` to quiet this message.\n",
            "Rows: 684 Columns: 3\n",
            "── Column specification ────────────────────────────────────────────────────────\n",
            "Delimiter: \"\\t\"\n",
            "chr (2): GENE, HGNC_ID\n",
            "dbl (1): ENTREZ_ID\n",
            "\n",
            "ℹ Use `spec()` to retrieve the full column specification for this data.\n",
            "ℹ Specify the column types or set `show_col_types = FALSE` to quiet this message.\n"
          ]
        }
      ],
      "source": [
        "  %%R\n",
        "non_essential <- read_tsv(\"/content/NEGv1.txt\") |>\n",
        "select(GENE) |>\n",
        "mutate(type = \"non-essential\")\n",
        "\n",
        "essential <- read_tsv(\"/content/CEGv2.txt\") |>\n",
        "select(GENE) |>\n",
        "mutate(type = \"essential\")\n",
        "\n",
        "\n",
        "essentiality_class <- bind_rows(non_essential, essential)\n"
      ]
    },
    {
      "cell_type": "code",
      "execution_count": 41,
      "id": "0BK9LrnNZjRy",
      "metadata": {
        "colab": {
          "base_uri": "https://localhost:8080/"
        },
        "id": "0BK9LrnNZjRy",
        "outputId": "c647f2ca-edd7-4d69-ba81-300cc7b64360"
      },
      "outputs": [
        {
          "name": "stdout",
          "output_type": "stream",
          "text": [
            "Error in `group_by()`:\n",
            "! Must group by variables found in `.data`.\n",
            "✖ Column `type` is not found.\n",
            "Run `rlang::last_trace()` to see where the error occurred.\n",
            "\n",
            "Error in group_by(plot_data, type) : \n",
            "✖ Column `type` is not found.\n"
          ]
        }
      ],
      "source": []
    },
    {
      "cell_type": "markdown",
      "id": "KrsjQEsJf4bd",
      "metadata": {
        "id": "KrsjQEsJf4bd"
      },
      "source": [
        "## Validating the results of a screen\n",
        "\n",
        "In order to have confidence that CRISPR-Cas9 is cutting and selecting against essential genes in your experiment many CRISPR libraries include a set of common essential genes (CEGs) and non-essential genes (NEG).\n",
        "\n",
        "This positive and negative control set can be expected to deplete (CEGs) and remain constant (NEGs).\n",
        "\n",
        "One effective way to check the success of a screen is to use a summary stastistic that descibed Null normalised mean difference (NNMD)."
      ]
    },
    {
      "cell_type": "code",
      "execution_count": 39,
      "id": "RNWYLtVMays2",
      "metadata": {
        "colab": {
          "base_uri": "https://localhost:8080/"
        },
        "id": "RNWYLtVMays2",
        "outputId": "9533809a-8d35-4a1a-b280-f11876186feb"
      },
      "outputs": [
        {
          "name": "stdout",
          "output_type": "stream",
          "text": [
            "Rows: 18055 Columns: 14\n",
            "── Column specification ────────────────────────────────────────────────────────\n",
            "Delimiter: \"\\t\"\n",
            "chr  (1): id\n",
            "dbl (13): num, neg|score, neg|p-value, neg|fdr, neg|rank, neg|goodsgrna, neg...\n",
            "\n",
            "ℹ Use `spec()` to retrieve the full column specification for this data.\n",
            "ℹ Specify the column types or set `show_col_types = FALSE` to quiet this message.\n"
          ]
        }
      ],
      "source": [
        "%%R\n",
        "plot_data <- read_tsv(\"/content/sample1.HAP1_T18A_vs_HAP1_T0.gene_summary.txt\")\n",
        "\n",
        "annotated_data <- left_join(plot_data, essentiality_class, by = c(\"id\" = \"GENE\"))"
      ]
    },
    {
      "cell_type": "code",
      "execution_count": 53,
      "id": "1AWWUYbOfo34",
      "metadata": {
        "colab": {
          "base_uri": "https://localhost:8080/"
        },
        "id": "1AWWUYbOfo34",
        "outputId": "66464be8-5862-4793-aaec-35fefb9eecd9"
      },
      "outputs": [
        {
          "name": "stdout",
          "output_type": "stream",
          "text": [
            "# A tibble: 1 × 8\n",
            "  mean_lfc_essential `mean_lfc_non-essential` mean_lfc_NA sd_lfc_essential\n",
            "               <dbl>                    <dbl>       <dbl>            <dbl>\n",
            "1              -3.01                    0.157      -0.112             1.65\n",
            "# ℹ 4 more variables: `sd_lfc_non-essential` <dbl>, sd_lfc_NA <dbl>,\n",
            "#   nnmd <dbl>, nnmd_label <chr>\n"
          ]
        }
      ],
      "source": [
        "%%R\n",
        "  # Calculate nnmd\n",
        "  nnmd <- annotated_data |>\n",
        "    dplyr::rename(LFC = `neg|lfc`) |>\n",
        "    group_by(type) |>\n",
        "    summarise(mean_lfc = mean(LFC), sd_lfc = sd(LFC)) |>\n",
        "    pivot_wider(names_from = type,\n",
        "                values_from = c(mean_lfc, sd_lfc)) |>\n",
        "    mutate(nnmd = (`mean_lfc_essential` - `mean_lfc_non-essential`) /\n",
        "                 `sd_lfc_non-essential`) |>\n",
        "    mutate(nnmd_label = sprintf('NNMD = %.2f', nnmd))\n",
        "  nnmd"
      ]
    },
    {
      "cell_type": "code",
      "execution_count": 54,
      "id": "MG-zNSYRbW3X",
      "metadata": {
        "colab": {
          "base_uri": "https://localhost:8080/",
          "height": 497
        },
        "id": "MG-zNSYRbW3X",
        "outputId": "4971c732-1476-4391-ec84-1b46bcefdbde"
      },
      "outputs": [
        {
          "data": {
            "image/png": "[encoded data removed]"
          },
          "metadata": {},
          "output_type": "display_data"
        }
      ],
      "source": [
        "\n",
        "%%R\n",
        "ggplot(annotated_data, aes(x = `neg|lfc`, fill = type)) +\n",
        "          geom_density(alpha = 0.5) +\n",
        "          labs(x = \"LFC\", y = \"Density\") +\n",
        "          theme_bw() +\n",
        "          theme(legend.position = \"top\", panel.border = element_blank()) +\n",
        "          scale_fill_discrete(\n",
        "            labels = c(\"Positive Controls\", \"Negative Controls\")\n",
        "          ) +\n",
        "          scale_y_continuous(expand = c(0, 0)) +\n",
        "          annotate(\n",
        "            \"text\", x = Inf, y = Inf, label = nnmd[[\"nnmd_label\"]],\n",
        "            hjust = 1.1, vjust = 2, size = 5, colour = \"black\"\n",
        "          )"
      ]
    },
    {
      "cell_type": "code",
      "execution_count": 61,
      "id": "ZfaqEkNeuN2G",
      "metadata": {
        "colab": {
          "base_uri": "https://localhost:8080/",
          "height": 1000
        },
        "id": "ZfaqEkNeuN2G",
        "outputId": "81cd9958-17ad-4ae7-819d-d6a116a261b9"
      },
      "outputs": [
        {
          "name": "stderr",
          "output_type": "stream",
          "text": [
            "R[write to console]: Installing package into ‘/usr/local/lib/R/site-library’\n",
            "(as ‘lib’ is unspecified)\n",
            "\n",
            "R[write to console]: trying URL 'https://cran.rstudio.com/src/contrib/ggrepel_0.9.6.tar.gz'\n",
            "\n",
            "R[write to console]: Content type 'application/x-gzip'\n",
            "R[write to console]:  length 149970 bytes (146 KB)\n",
            "\n",
            "R[write to console]: =\n",
            "R[write to console]: =\n",
            "R[write to console]: =\n",
            "R[write to console]: =\n",
            "R[write to console]: =\n",
            "R[write to console]: =\n",
            "R[write to console]: =\n",
            "R[write to console]: =\n",
            "R[write to console]: =\n",
            "R[write to console]: =\n",
            "R[write to console]: =\n",
            "R[write to console]: =\n",
            "R[write to console]: =\n",
            "R[write to console]: =\n",
            "R[write to console]: =\n",
            "R[write to console]: =\n",
            "R[write to console]: =\n",
            "R[write to console]: =\n",
            "R[write to console]: =\n",
            "R[write to console]: =\n",
            "R[write to console]: =\n",
            "R[write to console]: =\n",
            "R[write to console]: =\n",
            "R[write to console]: =\n",
            "R[write to console]: =\n",
            "R[write to console]: =\n",
            "R[write to console]: =\n",
            "R[write to console]: =\n",
            "R[write to console]: =\n",
            "R[write to console]: =\n",
            "R[write to console]: =\n",
            "R[write to console]: =\n",
            "R[write to console]: =\n",
            "R[write to console]: =\n",
            "R[write to console]: =\n",
            "R[write to console]: =\n",
            "R[write to console]: =\n",
            "R[write to console]: =\n",
            "R[write to console]: =\n",
            "R[write to console]: =\n",
            "R[write to console]: =\n",
            "R[write to console]: =\n",
            "R[write to console]: =\n",
            "R[write to console]: =\n",
            "R[write to console]: =\n",
            "R[write to console]: =\n",
            "R[write to console]: =\n",
            "R[write to console]: =\n",
            "R[write to console]: =\n",
            "R[write to console]: =\n",
            "R[write to console]: \n",
            "\n",
            "R[write to console]: downloaded 146 KB\n",
            "\n",
            "\n",
            "R[write to console]: \n",
            "\n",
            "R[write to console]: \n",
            "R[write to console]: The downloaded source packages are in\n",
            "\t‘/tmp/Rtmpp4iqtE/downloaded_packages’\n",
            "R[write to console]: \n",
            "R[write to console]: \n",
            "\n"
          ]
        },
        {
          "data": {
            "image/png": "[encoded data removed]"
          },
          "metadata": {},
          "output_type": "display_data"
        }
      ],
      "source": [
        "\n",
        "%%R\n",
        "library(ggrepel)\n",
        "gene_summary <- annotated_data |>\n",
        "        mutate(Significant = ifelse(`neg|fdr` < 0.05, \"Yes\", \"No\"))\n",
        "\n",
        "    gene_summary_labels <- gene_summary |>\n",
        "        filter(`neg|fdr` < 0.05) |>\n",
        "        head(5)\n",
        "\n",
        "ggplot(gene_summary, aes(x = `neg|lfc`, y = -log10(`neg|fdr`),\n",
        "                                 label = id, color = Significant)) +\n",
        "                geom_point(alpha = 0.8) +\n",
        "                geom_text_repel(data = gene_summary_labels, aes(label = id),\n",
        "                        size = 5, nudge_y = 0.1,\n",
        "                        force = 10, max.overlaps = Inf) +\n",
        "                scale_color_manual(values = c(\"darkgrey\", \"steelblue\")) +\n",
        "                theme_bw() +\n",
        "                theme(legend.position = \"none\",\n",
        "                        panel.grid.major = element_blank(),\n",
        "                        panel.grid.minor = element_blank(),\n",
        "                        panel.border = element_blank(),\n",
        "                        axis.line = element_line(color = \"black\"),\n",
        "                        axis.line.x.top = element_blank(),\n",
        "                        axis.line.y.right = element_blank()) +\n",
        "                labs(x = \"LFC\", y = \"-log10(p-value)\")\n"
      ]
    },
    {
      "cell_type": "markdown",
      "id": "9c7545e5",
      "metadata": {
        "id": "9c7545e5"
      },
      "source": [
        "\n",
        "## Post processing\n",
        "\n",
        "\n",
        "In cancer cells, where genomic alterations are widespread, copy number changes\n",
        "\n",
        "Demonstrated that targeting Cas9 to regions where there are copy number gains results in multiple DNA double-strand breaks, thus inducing larger gene-independent DNA-damage response and a phenotype of G2 cell-cycle arrest3\n",
        "\n",
        "\n",
        "\n",
        "\n",
        "[CRISPRcleanR](https://www.sanger.ac.uk/tool/crisprcleanr/) applies circular binary segmentation algorithm to identify genomic regions where sgRNA impact is correlated.\n",
        "\n",
        "Unlikely that contigous genes will be equally essential - instead possible that difference is due to a copy number alteration"
      ]
    },
    {
      "cell_type": "code",
      "execution_count": 9,
      "id": "7NAU0p0WuMmB",
      "metadata": {
        "colab": {
          "base_uri": "https://localhost:8080/"
        },
        "id": "7NAU0p0WuMmB",
        "outputId": "11d01303-26eb-46ee-9c71-cd3d3311942e"
      },
      "outputs": [
        {
          "name": "stdout",
          "output_type": "stream",
          "text": [
            "fatal: destination path 'bagel' already exists and is not an empty directory.\n",
            "archive\t\t\tNEGv1.txt\n",
            "BAGEL.py\t\tNetwork_STRING_v10.txt\n",
            "BAGEL-v2-tutorial.html\tpan-species-control-essentials-50genes.txt\n",
            "CEG_mouse.txt\t\tpan-species-control-nonessentials-50genes.txt\n",
            "CEGv2.txt\t\tpipeline-script-example\n",
            "data\t\t\tprecalc_library_alignment_info.py\n",
            "LICENSE\t\t\tREADME.md\n",
            "NEG_mouse.txt\t\treads_hap1.txt\n"
          ]
        }
      ],
      "source": [
        "!git clone https://github.com/hart-lab/bagel"
      ]
    },
    {
      "cell_type": "code",
      "execution_count": 13,
      "id": "l6Z7tnJYhwt-",
      "metadata": {
        "colab": {
          "base_uri": "https://localhost:8080/"
        },
        "id": "l6Z7tnJYhwt-",
        "outputId": "b9faa8b6-d7b0-4712-e239-e4b29f40d219"
      },
      "outputs": [
        {
          "name": "stdout",
          "output_type": "stream",
          "text": [
            "Channels:\n",
            " - conda-forge\n",
            "Platform: linux-64\n",
            "Collecting package metadata (repodata.json): - \b\b\\ \b\b| \b\b/ \b\b- \b\b\\ \b\b| \b\b/ \b\b- \b\b\\ \b\b| \b\b/ \b\b- \b\b\\ \b\b| \b\b/ \b\b- \b\b\\ \b\b| \b\b/ \b\b- \b\b\\ \b\b| \b\b/ \b\b- \b\b\\ \b\b| \b\b/ \b\b- \b\b\\ \b\b| \b\b/ \b\b- \b\b\\ \b\b| \b\b/ \b\b- \b\b\\ \b\b| \b\b/ \b\b- \b\b\\ \b\b| \b\b/ \b\b- \b\b\\ \b\b| \b\b/ \b\b- \b\b\\ \b\b| \b\b/ \b\b- \b\b\\ \b\b| \b\b/ \b\b- \b\b\\ \b\b| \b\b/ \b\b- \b\b\\ \b\b| \b\b/ \b\b- \b\b\\ \b\b| \b\b/ \b\b- \b\b\\ \b\b| \b\b/ \b\b- \b\b\\ \b\b| \b\b/ \b\b- \b\b\\ \b\b| \b\b/ \b\b- \b\b\\ \b\b| \b\b/ \b\b- \b\b\\ \b\b| \b\b/ \b\b- \b\b\\ \b\b| \b\b/ \b\b- \b\b\\ \b\b| \b\b/ \b\b- \b\b\\ \b\b| \b\b/ \b\b- \b\b\\ \b\b| \b\b/ \b\b- \b\b\\ \b\b| \b\b/ \b\b- \b\b\\ \b\b| \b\b/ \b\b- \b\b\\ \b\b| \b\b/ \b\b- \b\b\\ \b\b| \b\b/ \b\b- \b\b\\ \b\b| \b\b/ \b\b- \b\b\\ \b\b| \b\b/ \b\b- \b\b\\ \b\b| \b\b/ \b\b- \b\b\\ \b\b| \b\b/ \b\b- \b\b\\ \b\b| \b\b/ \b\b- \b\b\\ \b\b| \b\b/ \b\b- \b\b\\ \b\b| \b\b/ \b\b- \b\b\\ \b\b| \b\b/ \b\b- \b\b\\ \b\b| \b\b/ \b\b- \b\b\\ \b\b| \b\b/ \b\b- \b\b\\ \b\b| \b\b/ \b\b- \b\b\\ \b\b| \b\b/ \b\b- \b\b\\ \b\b| \b\b/ \b\b- \b\b\\ \b\b| \b\b/ \b\b- \b\b\\ \b\b| \b\b/ \b\b- \b\b\\ \b\b| \b\b/ \b\b- \b\b\\ \b\b| \b\b/ \b\b- \b\b\\ \b\b| \b\b/ \b\b- \b\b\\ \b\b| \b\b/ \b\b- \b\b\\ \b\b| \b\b/ \b\b- \b\b\\ \b\b| \b\b/ \b\b- \b\b\\ \b\b| \b\b/ \b\b- \b\b\\ \b\b| \b\b/ \b\b- \b\b\\ \b\b| \b\b/ \b\b- \b\b\\ \b\b| \b\b/ \b\b- \b\b\\ \b\b| \b\b/ \b\b- \b\b\\ \b\b| \b\b/ \b\b- \b\b\\ \b\b| \b\b/ \b\b- \b\b\\ \b\b| \b\b/ \b\b- \b\b\\ \b\b| \b\b/ \b\b- \b\b\\ \b\b| \b\b/ \b\b- \b\b\\ \b\bdone\n",
            "Solving environment: / \b\b- \b\b\\ \b\bdone\n",
            "\n",
            "\n",
            "==> WARNING: A newer version of conda exists. <==\n",
            "    current version: 23.11.0\n",
            "    latest version: 24.7.1\n",
            "\n",
            "Please update conda by running\n",
            "\n",
            "    $ conda update -n base -c conda-forge conda\n",
            "\n",
            "\n",
            "\n",
            "## Package Plan ##\n",
            "\n",
            "  environment location: /usr/local\n",
            "\n",
            "  added / updated specs:\n",
            "    - click\n",
            "\n",
            "\n",
            "The following packages will be downloaded:\n",
            "\n",
            "    package                    |            build\n",
            "    ---------------------------|-----------------\n",
            "    ca-certificates-2024.8.30  |       hbcca054_0         155 KB  conda-forge\n",
            "    certifi-2024.8.30          |     pyhd8ed1ab_0         160 KB  conda-forge\n",
            "    click-8.1.7                |unix_pyh707e725_0          82 KB  conda-forge\n",
            "    libgcc-14.1.0              |       h77fa898_1         827 KB  conda-forge\n",
            "    libgcc-ng-14.1.0           |       h69a702a_1          51 KB  conda-forge\n",
            "    libgomp-14.1.0             |       h77fa898_1         449 KB  conda-forge\n",
            "    openssl-3.3.2              |       hb9d3cd8_0         2.8 MB  conda-forge\n",
            "    ------------------------------------------------------------\n",
            "                                           Total:         4.4 MB\n",
            "\n",
            "The following NEW packages will be INSTALLED:\n",
            "\n",
            "  click              conda-forge/noarch::click-8.1.7-unix_pyh707e725_0 \n",
            "  libgcc             conda-forge/linux-64::libgcc-14.1.0-h77fa898_1 \n",
            "\n",
            "The following packages will be UPDATED:\n",
            "\n",
            "  ca-certificates                     2023.11.17-hbcca054_0 --> 2024.8.30-hbcca054_0 \n",
            "  certifi                           2023.11.17-pyhd8ed1ab_0 --> 2024.8.30-pyhd8ed1ab_0 \n",
            "  libgcc-ng                               13.2.0-h807b86a_3 --> 14.1.0-h69a702a_1 \n",
            "  libgomp                                 13.2.0-h807b86a_3 --> 14.1.0-h77fa898_1 \n",
            "  openssl                                  3.2.0-hd590300_1 --> 3.3.2-hb9d3cd8_0 \n",
            "\n",
            "\n",
            "\n",
            "Downloading and Extracting Packages:\n",
            "openssl-3.3.2        | 2.8 MB    | :   0% 0/1 [00:00<?, ?it/s]\n",
            "libgcc-14.1.0        | 827 KB    | :   0% 0/1 [00:00<?, ?it/s]\u001b[A\n",
            "\n",
            "libgomp-14.1.0       | 449 KB    | :   0% 0/1 [00:00<?, ?it/s]\u001b[A\u001b[A\n",
            "\n",
            "\n",
            "certifi-2024.8.30    | 160 KB    | :   0% 0/1 [00:00<?, ?it/s]\u001b[A\u001b[A\u001b[A\n",
            "\n",
            "\n",
            "\n",
            "ca-certificates-2024 | 155 KB    | :   0% 0/1 [00:00<?, ?it/s]\u001b[A\u001b[A\u001b[A\u001b[A\n",
            "\n",
            "\n",
            "\n",
            "\n",
            "click-8.1.7          | 82 KB     | :   0% 0/1 [00:00<?, ?it/s]\u001b[A\u001b[A\u001b[A\u001b[A\u001b[A\n",
            "\n",
            "\n",
            "\n",
            "\n",
            "\n",
            "libgcc-ng-14.1.0     | 51 KB     | :   0% 0/1 [00:00<?, ?it/s]\u001b[A\u001b[A\u001b[A\u001b[A\u001b[A\u001b[A\n",
            "openssl-3.3.2        | 2.8 MB    | :   1% 0.005665696909421814/1 [00:00<00:21, 21.55s/it]\n",
            "\n",
            "\n",
            "\n",
            "ca-certificates-2024 | 155 KB    | :  10% 0.10304208096702577/1 [00:00<00:01,  1.44s/it]\u001b[A\u001b[A\u001b[A\u001b[A\n",
            "\n",
            "libgomp-14.1.0       | 449 KB    | :   4% 0.03560051975368195/1 [00:00<00:04,  4.41s/it]\u001b[A\u001b[A\n",
            "\n",
            "\n",
            "certifi-2024.8.30    | 160 KB    | :  10% 0.10005373980165128/1 [00:00<00:01,  1.53s/it]\u001b[A\u001b[A\u001b[A\n",
            "\n",
            "\n",
            "\n",
            "\n",
            "openssl-3.3.2        | 2.8 MB    | :  59% 0.5892324785798687/1 [00:00<00:00,  3.17it/s]  \n",
            "\n",
            "\n",
            "\n",
            "\n",
            "\n",
            "libgcc-ng-14.1.0     | 51 KB     | :  31% 0.31405022043319913/1 [00:00<00:00,  1.38it/s]\u001b[A\u001b[A\u001b[A\u001b[A\u001b[A\u001b[A\n",
            "\n",
            "\n",
            "\n",
            "ca-certificates-2024 | 155 KB    | : 100% 1.0/1 [00:00<00:00,  1.44s/it]                \u001b[A\u001b[A\u001b[A\u001b[A\n",
            "\n",
            "\n",
            "certifi-2024.8.30    | 160 KB    | : 100% 1.0/1 [00:00<00:00,  4.08it/s]                \u001b[A\u001b[A\u001b[A\n",
            "\n",
            "\n",
            "certifi-2024.8.30    | 160 KB    | : 100% 1.0/1 [00:00<00:00,  4.08it/s]\u001b[A\u001b[A\u001b[A\n",
            "libgcc-14.1.0        | 827 KB    | : 100% 1.0/1 [00:00<00:00,  2.82it/s]                \u001b[A\n",
            "libgcc-14.1.0        | 827 KB    | : 100% 1.0/1 [00:00<00:00,  2.82it/s]\u001b[A\n",
            "\n",
            "libgomp-14.1.0       | 449 KB    | : 100% 1.0/1 [00:00<00:00,  2.81it/s]                \u001b[A\u001b[A\n",
            "\n",
            "libgomp-14.1.0       | 449 KB    | : 100% 1.0/1 [00:00<00:00,  2.81it/s]\u001b[A\u001b[A\n",
            "\n",
            "\n",
            "\n",
            "\n",
            "click-8.1.7          | 82 KB     | : 100% 1.0/1 [00:00<00:00,  2.63it/s]                \u001b[A\u001b[A\u001b[A\u001b[A\u001b[A\n",
            "\n",
            "\n",
            "\n",
            "\n",
            "click-8.1.7          | 82 KB     | : 100% 1.0/1 [00:00<00:00,  2.63it/s]\u001b[A\u001b[A\u001b[A\u001b[A\u001b[A\n",
            "\n",
            "\n",
            "\n",
            "\n",
            "\n",
            "libgcc-ng-14.1.0     | 51 KB     | : 100% 1.0/1 [00:00<00:00,  2.18it/s]                \u001b[A\u001b[A\u001b[A\u001b[A\u001b[A\u001b[A\n",
            "\n",
            "\n",
            "\n",
            "\n",
            "\n",
            "                                                                        \n",
            "                                                                        \u001b[A\n",
            "\n",
            "                                                                        \u001b[A\u001b[A\n",
            "\n",
            "\n",
            "                                                                        \u001b[A\u001b[A\u001b[A\n",
            "\n",
            "\n",
            "\n",
            "                                                                        \u001b[A\u001b[A\u001b[A\u001b[A\n",
            "\n",
            "\n",
            "\n",
            "\n",
            "                                                                        \u001b[A\u001b[A\u001b[A\u001b[A\u001b[A\n",
            "\n",
            "\n",
            "\n",
            "\n",
            "\n",
            "                                                                        \u001b[A\u001b[A\u001b[A\u001b[A\u001b[A\u001b[A\n",
            "Preparing transaction: / \b\bdone\n",
            "Verifying transaction: \\ \b\b| \b\bdone\n",
            "Executing transaction: - \b\b\\ \b\b| \b\b/ \b\b- \b\b\\ \b\b| \b\b/ \b\b- \b\bdone\n",
            "Traceback (most recent call last):\n",
            "  File \"/content/./bagel/BAGEL.py\", line 4, in <module>\n",
            "    import numpy as np\n",
            "ModuleNotFoundError: No module named 'numpy'\n"
          ]
        }
      ],
      "source": [
        "!conda install click\n",
        "!./bagel/BAGEL.py"
      ]
    },
    {
      "cell_type": "markdown",
      "id": "dc03c58e-2130-46e7-b717-8e81979803d8",
      "metadata": {
        "id": "dc03c58e-2130-46e7-b717-8e81979803d8"
      },
      "source": [
        "That's it for today! In many ways we've only just started, we might want to look at filtering guides out of our dataset, identifying problematic samples using tools like PCA and perfoming associations testing on our guides.\n",
        "\n",
        "Stay tuned and see you next time!"
      ]
    },
    {
      "cell_type": "markdown",
      "id": "_bTlrIHjjAWO",
      "metadata": {
        "id": "_bTlrIHjjAWO"
      },
      "source": [
        "## References\n",
        "\n",
        "- [Integrated cross-study datasets of genetic dependencies in cancer](https://www.nature.com/articles/s41467-021-21898-7)\n",
        "\n",
        "- [Extracting Biological Insights from the Project Achilles Genome-Scale CRISPR Screens in Cancer Cell Lines](https://www.biorxiv.org/content/10.1101/720243v1)\n",
        "\n",
        "- Aguirre A.J., Meyers R.M., Weir B.A., et al. Genomic copy number dictates a gene-independent cell response to CRISPR-Cas9 targeting. Cancer Discov June 3 2016 DOI: 10.1158/2159-8290.CD-16-0154\n",
        "\n",
        "- BAGEL: a computational framework for identifying essential genes from pooled library screens. Traver Hart and Jason Moffat. BMC Bioinformatics, 2016 vol. 17 p. 164."
      ]
    }
  ],
  "metadata": {
    "colab": {
      "include_colab_link": true,
      "provenance": []
    },
    "kernelspec": {
      "display_name": "Python 3",
      "name": "python3"
    },
    "language_info": {
      "name": "python"
    }
  },
  "nbformat": 4,
  "nbformat_minor": 5
}
